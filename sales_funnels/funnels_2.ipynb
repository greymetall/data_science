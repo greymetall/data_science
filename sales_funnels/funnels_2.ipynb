{
 "cells": [
  {
   "cell_type": "markdown",
   "metadata": {},
   "source": [
    "# Анализ воронки\n",
    "\n",
    "- [Загрузка данных кликстрима из файла [`click_stream.csv`](data/click_stream.csv \"click stream\")](#Эволюция-воронки-со-временем)\n",
    "- [Построение воронок по каждому доступному месяцу](#Воронки-по-месяцам)\n",
    "(их всего 4: с января по апрель 2015 года)\n",
    "- [Сравнение воронок: одинаковые ли воронки или меняются](#Сравнение--воронок)\n",
    "- [Конверсия из поиска](#Конверсия-из-поиска)"
   ]
  },
  {
   "cell_type": "markdown",
   "metadata": {},
   "source": [
    "Для того чтобы проанализировать воронку и понять что можно улучшить, нужно локализовать проблему.\n",
    "Сначала оценим динамику со временем."
   ]
  },
  {
   "cell_type": "markdown",
   "metadata": {},
   "source": [
    "## Эволюция воронки со временем\n",
    "\n",
    "Загрузим данные и рассчитаем конверсию по каждому доступному месяцу. Сравним полученные воронки."
   ]
  },
  {
   "cell_type": "code",
   "execution_count": 1,
   "metadata": {
    "colab": {},
    "colab_type": "code",
    "collapsed": true,
    "id": "lkjC87-pfCYH",
    "jupyter": {
     "outputs_hidden": true
    }
   },
   "outputs": [
    {
     "data": {
      "text/plain": [
       "{'2015-01': {'1_home_page': 22600,\n",
       "  '2_search_page': 13554,\n",
       "  '3_payment_page': 2390,\n",
       "  '4_payment_confirmation_page': 189},\n",
       " '2015-02': {'1_home_page': 22600,\n",
       "  '2_search_page': 13687,\n",
       "  '3_payment_page': 2412,\n",
       "  '4_payment_confirmation_page': 173},\n",
       " '2015-03': {'1_home_page': 22600,\n",
       "  '2_search_page': 8879,\n",
       "  '3_payment_page': 631,\n",
       "  '4_payment_confirmation_page': 44},\n",
       " '2015-04': {'1_home_page': 22600,\n",
       "  '2_search_page': 9080,\n",
       "  '3_payment_page': 597,\n",
       "  '4_payment_confirmation_page': 46}}"
      ]
     },
     "execution_count": 1,
     "metadata": {},
     "output_type": "execute_result"
    }
   ],
   "source": [
    "import csv\n",
    "from collections import OrderedDict\n",
    "\n",
    "funnel_by_month = {} # создаем словарь, где будут храниться словари за каждый месяц\n",
    "funnel_template = {'1_home_page':0, '2_search_page':0, '3_payment_page':0, '4_payment_confirmation_page':0}\n",
    "\n",
    "with open('data/click_stream.csv', mode='r') as csv_file: # открываем файл\n",
    "    csv_reader = csv.DictReader(csv_file, fieldnames=['ID','page','date']) # читаем файл\n",
    "    \n",
    "    # проходим циклом по объекту csv_reader\n",
    "    for row in csv_reader: # берем строку из объекта csv_reader\n",
    "\n",
    "        page = list(row.values())[1] # вытаскиваем название страницы\n",
    "        event_date = list(row.values())[2][:-3] # вытаскиваем дату в формате YYYY-MM\n",
    "        \n",
    "        # проверяем существует ли ключ со значением event_date в словаре\n",
    "        if event_date not in funnel_by_month: # если нет\n",
    "            funnel_by_month[event_date] = funnel_template.copy() # создаем ключ, в значение копируем заготовку\n",
    "\n",
    "        # проверяем условиями и прибавляем единицу к нужному ключу в словаре\n",
    "        if page == '1_home_page':\n",
    "            funnel_by_month[event_date][page] += 1\n",
    "        elif page == '2_search_page':\n",
    "            funnel_by_month[event_date][page] += 1\n",
    "        elif page == '3_payment_page':\n",
    "            funnel_by_month[event_date][page] += 1\n",
    "        else:\n",
    "            funnel_by_month[event_date][page] += 1\n",
    "            \n",
    "funnel_by_month = dict(OrderedDict(sorted(funnel_by_month.items(), key=lambda x: x[0])))\n",
    "funnel_by_month"
   ]
  },
  {
   "cell_type": "markdown",
   "metadata": {},
   "source": [
    "## Воронки по месяцам"
   ]
  },
  {
   "cell_type": "code",
   "execution_count": 2,
   "metadata": {},
   "outputs": [
    {
     "data": {
      "text/html": [
       "<div>\n",
       "<style scoped>\n",
       "    .dataframe tbody tr th:only-of-type {\n",
       "        vertical-align: middle;\n",
       "    }\n",
       "\n",
       "    .dataframe tbody tr th {\n",
       "        vertical-align: top;\n",
       "    }\n",
       "\n",
       "    .dataframe thead th {\n",
       "        text-align: right;\n",
       "    }\n",
       "</style>\n",
       "<table border=\"1\" class=\"dataframe\">\n",
       "  <thead>\n",
       "    <tr style=\"text-align: right;\">\n",
       "      <th></th>\n",
       "      <th>2015-01</th>\n",
       "      <th>2015-02</th>\n",
       "      <th>2015-03</th>\n",
       "      <th>2015-04</th>\n",
       "    </tr>\n",
       "  </thead>\n",
       "  <tbody>\n",
       "    <tr>\n",
       "      <th>1_home_page</th>\n",
       "      <td>22600</td>\n",
       "      <td>22600</td>\n",
       "      <td>22600</td>\n",
       "      <td>22600</td>\n",
       "    </tr>\n",
       "    <tr>\n",
       "      <th>2_search_page</th>\n",
       "      <td>13554</td>\n",
       "      <td>13687</td>\n",
       "      <td>8879</td>\n",
       "      <td>9080</td>\n",
       "    </tr>\n",
       "    <tr>\n",
       "      <th>3_payment_page</th>\n",
       "      <td>2390</td>\n",
       "      <td>2412</td>\n",
       "      <td>631</td>\n",
       "      <td>597</td>\n",
       "    </tr>\n",
       "    <tr>\n",
       "      <th>4_payment_confirmation_page</th>\n",
       "      <td>189</td>\n",
       "      <td>173</td>\n",
       "      <td>44</td>\n",
       "      <td>46</td>\n",
       "    </tr>\n",
       "  </tbody>\n",
       "</table>\n",
       "</div>"
      ],
      "text/plain": [
       "                             2015-01  2015-02  2015-03  2015-04\n",
       "1_home_page                    22600    22600    22600    22600\n",
       "2_search_page                  13554    13687     8879     9080\n",
       "3_payment_page                  2390     2412      631      597\n",
       "4_payment_confirmation_page      189      173       44       46"
      ]
     },
     "execution_count": 2,
     "metadata": {},
     "output_type": "execute_result"
    }
   ],
   "source": [
    "import pandas as pd\n",
    "import numpy as np\n",
    "df = pd.DataFrame(funnel_by_month)\n",
    "df"
   ]
  },
  {
   "cell_type": "markdown",
   "metadata": {},
   "source": [
    "На *главной странице* `home_page` количество посещений идентично во всех месяцах. Но потом начинаются изменения. Колическо переходов на *страницу поиска* `search_page` резко падает, количество переходов на *страницу платежа* `payment_page` тоже падает. А итогова конверсия перехода на *страницу подтверждения покупки* `payment_confirmation_page` падает очень-очень сильно.\n",
    "\n",
    "Чтобы понять насколько сильно падает конверсия, представим эти данные на графике"
   ]
  },
  {
   "cell_type": "code",
   "execution_count": 3,
   "metadata": {},
   "outputs": [
    {
     "data": {
      "image/png": "[encoded data removed]",
      "text/plain": [
       "<Figure size 864x504 with 1 Axes>"
      ]
     },
     "metadata": {
      "needs_background": "light"
     },
     "output_type": "display_data"
    }
   ],
   "source": [
    "%matplotlib inline\n",
    "bar = df.T.plot.bar(ylim=(0,25000), figsize=(12,7), rot=0)\n",
    "bar.legend(loc=2, bbox_to_anchor=(0.1, 1, 1, 0.1), ncol=4, frameon=False)\n",
    "bar.grid(axis='y')\n",
    "bar.set_axisbelow(True)"
   ]
  },
  {
   "cell_type": "markdown",
   "metadata": {},
   "source": [
    "## Сравнение  воронок\n",
    "\n",
    "На приведённом графике видно, что количество переходов на *страницу поиска* `search_page` падает примерно на треть. А вот количество переходов на *страницу оплаты* `payment_page` падает в разы. Что же касается переходов на страницу *завершения оплаты* `payment_confirmation_page`, то видно, что в *последние два месяца* эта величина настолько ***мала***, что её даже *не видно на графике*. И поэтому для неё построим отдельный график."
   ]
  },
  {
   "cell_type": "code",
   "execution_count": 4,
   "metadata": {},
   "outputs": [
    {
     "data": {
      "text/html": [
       "<div>\n",
       "<style scoped>\n",
       "    .dataframe tbody tr th:only-of-type {\n",
       "        vertical-align: middle;\n",
       "    }\n",
       "\n",
       "    .dataframe tbody tr th {\n",
       "        vertical-align: top;\n",
       "    }\n",
       "\n",
       "    .dataframe thead th {\n",
       "        text-align: right;\n",
       "    }\n",
       "</style>\n",
       "<table border=\"1\" class=\"dataframe\">\n",
       "  <thead>\n",
       "    <tr style=\"text-align: right;\">\n",
       "      <th></th>\n",
       "      <th>4_payment_confirmation_page</th>\n",
       "      <th>month</th>\n",
       "    </tr>\n",
       "  </thead>\n",
       "  <tbody>\n",
       "    <tr>\n",
       "      <th>2015-01</th>\n",
       "      <td>189</td>\n",
       "      <td>2015-01</td>\n",
       "    </tr>\n",
       "    <tr>\n",
       "      <th>2015-02</th>\n",
       "      <td>173</td>\n",
       "      <td>2015-02</td>\n",
       "    </tr>\n",
       "    <tr>\n",
       "      <th>2015-03</th>\n",
       "      <td>44</td>\n",
       "      <td>2015-03</td>\n",
       "    </tr>\n",
       "    <tr>\n",
       "      <th>2015-04</th>\n",
       "      <td>46</td>\n",
       "      <td>2015-04</td>\n",
       "    </tr>\n",
       "  </tbody>\n",
       "</table>\n",
       "</div>"
      ],
      "text/plain": [
       "         4_payment_confirmation_page    month\n",
       "2015-01                          189  2015-01\n",
       "2015-02                          173  2015-02\n",
       "2015-03                           44  2015-03\n",
       "2015-04                           46  2015-04"
      ]
     },
     "execution_count": 4,
     "metadata": {},
     "output_type": "execute_result"
    }
   ],
   "source": [
    "df_diag = df.iloc[3:, :].T\n",
    "df_diag['month'] = df_diag.index\n",
    "df_diag"
   ]
  },
  {
   "cell_type": "code",
   "execution_count": 5,
   "metadata": {},
   "outputs": [
    {
     "data": {
      "image/png": "[encoded data removed]",
      "text/plain": [
       "<Figure size 432x288 with 1 Axes>"
      ]
     },
     "metadata": {
      "needs_background": "light"
     },
     "output_type": "display_data"
    }
   ],
   "source": [
    "bar = df_diag.plot.bar(x='month', y='4_payment_confirmation_page', yticks=np.arange(0,210,50), ylim=(0,200), rot=0, legend=None)\n",
    "bar.grid(axis='y')\n",
    "bar.set_axisbelow(True)"
   ]
  },
  {
   "cell_type": "markdown",
   "metadata": {},
   "source": [
    "На этом графике изображена **динамика по месяцам** количества людей, которые **завершили покупку** на сайте.<br>\n",
    "Каждый месяц приходило одинаковое количество людей, но по этому графику видно, что количество людей, которые *завершили покупку* <u>**упало** почти в **4 раза**!</u> Это очень серьёзно.\n",
    "\n",
    "Теперь представим целевую таблицу не в абсолютных числах, а в процентах, т.к. проценты сравнивать намного проще и надёжнее."
   ]
  },
  {
   "cell_type": "code",
   "execution_count": 6,
   "metadata": {
    "collapsed": true,
    "jupyter": {
     "outputs_hidden": true
    },
    "pixiedust": {
     "displayParams": {}
    }
   },
   "outputs": [
    {
     "data": {
      "text/plain": [
       "{'2015-01': {'1_home_page': 100.0,\n",
       "  '2_search_page': 59.97,\n",
       "  '3_payment_page': 10.58,\n",
       "  '4_payment_confirmation_page': 0.84},\n",
       " '2015-02': {'1_home_page': 100.0,\n",
       "  '2_search_page': 60.56,\n",
       "  '3_payment_page': 10.67,\n",
       "  '4_payment_confirmation_page': 0.77},\n",
       " '2015-03': {'1_home_page': 100.0,\n",
       "  '2_search_page': 39.29,\n",
       "  '3_payment_page': 2.79,\n",
       "  '4_payment_confirmation_page': 0.19},\n",
       " '2015-04': {'1_home_page': 100.0,\n",
       "  '2_search_page': 40.18,\n",
       "  '3_payment_page': 2.64,\n",
       "  '4_payment_confirmation_page': 0.2}}"
      ]
     },
     "execution_count": 6,
     "metadata": {},
     "output_type": "execute_result"
    }
   ],
   "source": [
    "funnel_by_month_cent = {}\n",
    "\n",
    "for key1, value1 in funnel_by_month.copy().items():\n",
    "    base = value1.copy()['1_home_page']\n",
    "    funnel_by_month_cent[key1] = value1.copy()\n",
    "    for key2, value2 in value1.items():\n",
    "        funnel_by_month_cent[key1][key2] = round(value2 / base * 100, 2)\n",
    "funnel_by_month_cent"
   ]
  },
  {
   "cell_type": "code",
   "execution_count": 7,
   "metadata": {},
   "outputs": [
    {
     "data": {
      "text/html": [
       "<style  type=\"text/css\" >\n",
       "</style><table id=\"T_35d896f3_ebef_11ea_8614_482ae308b1f1\" ><thead>    <tr>        <th class=\"blank level0\" ></th>        <th class=\"col_heading level0 col0\" >2015-01</th>        <th class=\"col_heading level0 col1\" >2015-02</th>        <th class=\"col_heading level0 col2\" >2015-03</th>        <th class=\"col_heading level0 col3\" >2015-04</th>    </tr></thead><tbody>\n",
       "                <tr>\n",
       "                        <th id=\"T_35d896f3_ebef_11ea_8614_482ae308b1f1level0_row0\" class=\"row_heading level0 row0\" >1_home_page</th>\n",
       "                        <td id=\"T_35d896f3_ebef_11ea_8614_482ae308b1f1row0_col0\" class=\"data row0 col0\" >100.00%</td>\n",
       "                        <td id=\"T_35d896f3_ebef_11ea_8614_482ae308b1f1row0_col1\" class=\"data row0 col1\" >100.00%</td>\n",
       "                        <td id=\"T_35d896f3_ebef_11ea_8614_482ae308b1f1row0_col2\" class=\"data row0 col2\" >100.00%</td>\n",
       "                        <td id=\"T_35d896f3_ebef_11ea_8614_482ae308b1f1row0_col3\" class=\"data row0 col3\" >100.00%</td>\n",
       "            </tr>\n",
       "            <tr>\n",
       "                        <th id=\"T_35d896f3_ebef_11ea_8614_482ae308b1f1level0_row1\" class=\"row_heading level0 row1\" >2_search_page</th>\n",
       "                        <td id=\"T_35d896f3_ebef_11ea_8614_482ae308b1f1row1_col0\" class=\"data row1 col0\" >59.97%</td>\n",
       "                        <td id=\"T_35d896f3_ebef_11ea_8614_482ae308b1f1row1_col1\" class=\"data row1 col1\" >60.56%</td>\n",
       "                        <td id=\"T_35d896f3_ebef_11ea_8614_482ae308b1f1row1_col2\" class=\"data row1 col2\" >39.29%</td>\n",
       "                        <td id=\"T_35d896f3_ebef_11ea_8614_482ae308b1f1row1_col3\" class=\"data row1 col3\" >40.18%</td>\n",
       "            </tr>\n",
       "            <tr>\n",
       "                        <th id=\"T_35d896f3_ebef_11ea_8614_482ae308b1f1level0_row2\" class=\"row_heading level0 row2\" >3_payment_page</th>\n",
       "                        <td id=\"T_35d896f3_ebef_11ea_8614_482ae308b1f1row2_col0\" class=\"data row2 col0\" >10.58%</td>\n",
       "                        <td id=\"T_35d896f3_ebef_11ea_8614_482ae308b1f1row2_col1\" class=\"data row2 col1\" >10.67%</td>\n",
       "                        <td id=\"T_35d896f3_ebef_11ea_8614_482ae308b1f1row2_col2\" class=\"data row2 col2\" >2.79%</td>\n",
       "                        <td id=\"T_35d896f3_ebef_11ea_8614_482ae308b1f1row2_col3\" class=\"data row2 col3\" >2.64%</td>\n",
       "            </tr>\n",
       "            <tr>\n",
       "                        <th id=\"T_35d896f3_ebef_11ea_8614_482ae308b1f1level0_row3\" class=\"row_heading level0 row3\" >4_payment_confirmation_page</th>\n",
       "                        <td id=\"T_35d896f3_ebef_11ea_8614_482ae308b1f1row3_col0\" class=\"data row3 col0\" >0.84%</td>\n",
       "                        <td id=\"T_35d896f3_ebef_11ea_8614_482ae308b1f1row3_col1\" class=\"data row3 col1\" >0.77%</td>\n",
       "                        <td id=\"T_35d896f3_ebef_11ea_8614_482ae308b1f1row3_col2\" class=\"data row3 col2\" >0.19%</td>\n",
       "                        <td id=\"T_35d896f3_ebef_11ea_8614_482ae308b1f1row3_col3\" class=\"data row3 col3\" >0.20%</td>\n",
       "            </tr>\n",
       "    </tbody></table>"
      ],
      "text/plain": [
       "<pandas.io.formats.style.Styler at 0x1c34ad865e0>"
      ]
     },
     "execution_count": 7,
     "metadata": {},
     "output_type": "execute_result"
    }
   ],
   "source": [
    "df_c = pd.DataFrame(funnel_by_month_cent)\n",
    "df_c.style.format('{:.2f}%')"
   ]
  },
  {
   "cell_type": "markdown",
   "metadata": {},
   "source": [
    "Здесь видно, что конверсия из *посетителей* в *поиск* падает с примерно **60%** до **40%** - на **20%** (очень много), а конверсия в *покупателй* падает с **0.8%** до **0.2%** - т.е. **в 4 раза**. При этом видно, что конверсия из *поиска* в дальнейшие шаги, - тоже отличается по месяцам, но в таком представлении её неочень чётко видно. И поэтому, попробуем представить конверсию, приняв за 100% *поиск* в соответствующем месяце."
   ]
  },
  {
   "cell_type": "code",
   "execution_count": 8,
   "metadata": {
    "collapsed": true,
    "jupyter": {
     "outputs_hidden": true
    }
   },
   "outputs": [
    {
     "data": {
      "text/plain": [
       "{'2015-01': {'1_home_page': 166.74,\n",
       "  '2_search_page': 100.0,\n",
       "  '3_payment_page': 17.63,\n",
       "  '4_payment_confirmation_page': 1.39},\n",
       " '2015-02': {'1_home_page': 165.12,\n",
       "  '2_search_page': 100.0,\n",
       "  '3_payment_page': 17.62,\n",
       "  '4_payment_confirmation_page': 1.26},\n",
       " '2015-03': {'1_home_page': 254.53,\n",
       "  '2_search_page': 100.0,\n",
       "  '3_payment_page': 7.11,\n",
       "  '4_payment_confirmation_page': 0.5},\n",
       " '2015-04': {'1_home_page': 248.9,\n",
       "  '2_search_page': 100.0,\n",
       "  '3_payment_page': 6.57,\n",
       "  '4_payment_confirmation_page': 0.51}}"
      ]
     },
     "execution_count": 8,
     "metadata": {},
     "output_type": "execute_result"
    }
   ],
   "source": [
    "funnel_by_month_search_cent = {}\n",
    "\n",
    "for key1, value1 in funnel_by_month.copy().items():\n",
    "    base = value1.copy()['2_search_page']\n",
    "    funnel_by_month_search_cent[key1] = value1.copy()\n",
    "    for key2, value2 in value1.items():\n",
    "        funnel_by_month_search_cent[key1][key2] = round(value2 / base * 100, 2)\n",
    "funnel_by_month_search_cent"
   ]
  },
  {
   "cell_type": "code",
   "execution_count": 9,
   "metadata": {},
   "outputs": [
    {
     "data": {
      "text/html": [
       "<style  type=\"text/css\" >\n",
       "</style><table id=\"T_35e652cb_ebef_11ea_b1ac_482ae308b1f1\" ><thead>    <tr>        <th class=\"blank level0\" ></th>        <th class=\"col_heading level0 col0\" >2015-01</th>        <th class=\"col_heading level0 col1\" >2015-02</th>        <th class=\"col_heading level0 col2\" >2015-03</th>        <th class=\"col_heading level0 col3\" >2015-04</th>    </tr></thead><tbody>\n",
       "                <tr>\n",
       "                        <th id=\"T_35e652cb_ebef_11ea_b1ac_482ae308b1f1level0_row0\" class=\"row_heading level0 row0\" >2_search_page</th>\n",
       "                        <td id=\"T_35e652cb_ebef_11ea_b1ac_482ae308b1f1row0_col0\" class=\"data row0 col0\" >100.00%</td>\n",
       "                        <td id=\"T_35e652cb_ebef_11ea_b1ac_482ae308b1f1row0_col1\" class=\"data row0 col1\" >100.00%</td>\n",
       "                        <td id=\"T_35e652cb_ebef_11ea_b1ac_482ae308b1f1row0_col2\" class=\"data row0 col2\" >100.00%</td>\n",
       "                        <td id=\"T_35e652cb_ebef_11ea_b1ac_482ae308b1f1row0_col3\" class=\"data row0 col3\" >100.00%</td>\n",
       "            </tr>\n",
       "            <tr>\n",
       "                        <th id=\"T_35e652cb_ebef_11ea_b1ac_482ae308b1f1level0_row1\" class=\"row_heading level0 row1\" >3_payment_page</th>\n",
       "                        <td id=\"T_35e652cb_ebef_11ea_b1ac_482ae308b1f1row1_col0\" class=\"data row1 col0\" >17.63%</td>\n",
       "                        <td id=\"T_35e652cb_ebef_11ea_b1ac_482ae308b1f1row1_col1\" class=\"data row1 col1\" >17.62%</td>\n",
       "                        <td id=\"T_35e652cb_ebef_11ea_b1ac_482ae308b1f1row1_col2\" class=\"data row1 col2\" >7.11%</td>\n",
       "                        <td id=\"T_35e652cb_ebef_11ea_b1ac_482ae308b1f1row1_col3\" class=\"data row1 col3\" >6.57%</td>\n",
       "            </tr>\n",
       "            <tr>\n",
       "                        <th id=\"T_35e652cb_ebef_11ea_b1ac_482ae308b1f1level0_row2\" class=\"row_heading level0 row2\" >4_payment_confirmation_page</th>\n",
       "                        <td id=\"T_35e652cb_ebef_11ea_b1ac_482ae308b1f1row2_col0\" class=\"data row2 col0\" >1.39%</td>\n",
       "                        <td id=\"T_35e652cb_ebef_11ea_b1ac_482ae308b1f1row2_col1\" class=\"data row2 col1\" >1.26%</td>\n",
       "                        <td id=\"T_35e652cb_ebef_11ea_b1ac_482ae308b1f1row2_col2\" class=\"data row2 col2\" >0.50%</td>\n",
       "                        <td id=\"T_35e652cb_ebef_11ea_b1ac_482ae308b1f1row2_col3\" class=\"data row2 col3\" >0.51%</td>\n",
       "            </tr>\n",
       "    </tbody></table>"
      ],
      "text/plain": [
       "<pandas.io.formats.style.Styler at 0x1c34add4640>"
      ]
     },
     "execution_count": 9,
     "metadata": {},
     "output_type": "execute_result"
    }
   ],
   "source": [
    "df_s_c = pd.DataFrame(funnel_by_month_search_cent)\n",
    "df_s_c = df_s_c.iloc[1:, :]\n",
    "df_s_c.style.format('{:.2f}%')"
   ]
  },
  {
   "cell_type": "markdown",
   "metadata": {},
   "source": [
    "## Конверсия из поиска"
   ]
  },
  {
   "cell_type": "code",
   "execution_count": 10,
   "metadata": {},
   "outputs": [
    {
     "data": {
      "image/png": "[encoded data removed]",
      "text/plain": [
       "<Figure size 864x504 with 1 Axes>"
      ]
     },
     "metadata": {
      "needs_background": "light"
     },
     "output_type": "display_data"
    }
   ],
   "source": [
    "bar = df_s_c.T.plot.bar(figsize=(12,7), rot=0, ylim=(0,100), yticks=np.arange(0,110,25))\n",
    "bar.set_yticklabels([f'{y:.2f}%' for y in np.arange(0,101,25)])\n",
    "for x, y in enumerate(df_s_c.T['3_payment_page'].values):\n",
    "    bar.text(x+.05, y+1, f'{y:.2f}%', ha='center', va='bottom', color='r', fontsize=14)\n",
    "bar.legend(loc=2, bbox_to_anchor=(0.2, 1, 1, 0.1), ncol=3, frameon=False)\n",
    "bar.grid(axis='y')\n",
    "bar.set_axisbelow(True)"
   ]
  },
  {
   "cell_type": "markdown",
   "metadata": {},
   "source": [
    "По этому графику видно, что приняв количество посетителей *старницы поиска* за 100%, мы получили подтверждение, что не только конверсия в *поиск* упала, но и **конверсия из поиска в** ***платёж*** в последние два месяца упала с **17%** до **7%**. Т.е. примерно в **2.5 раза**. Это означает, что проблема не только в *поиске*, - проблема **во всех частях воронки**.\n",
    "\n",
    "Итак, мы убедились, что:\n",
    "1. воронка ухудшается **конверсия падает**\n",
    "2. что-то произошло между **февралём и мартом 2015 года** (локализовав проблему).<br>\n",
    "И в этот момент начался значительный **регресс во всех частях воронки**.\n",
    "\n",
    "Теперь поробуем точнее понять что же произошло между февралём и мартом 2015 года.<br>\n",
    "И для этого переходим к следующей части анализа воронки: попробуем определить влияние **устройства** на конверсию воронки. Для этого используем файл [`click_stream2.csv`](data/click_stream2.csv \"click stream 2\") <br>\n",
    "В нём появился новый столбец. Теперь для каждого посещения сайта помимо пользователя, даты и имени страницы, есть ещё **тип устройства**, с которого на странцу заходил пользователь. Это может быть либо *Desktop* (обычный настольный компьютер), либо *Mobile* (мобильный телефон).\n",
    "\n",
    "Определим, происходит ли ухуджешие воронки, которое мы определили между февралём и мартом 2015 года, только на одном устройстве или же на обоих типах устройств.\n",
    "\n",
    "___\n",
    "Продолжение в [следующем ноутбуке](funnels_3.ipynb \"funnels 3\")"
   ]
  }
 ],
 "metadata": {
  "colab": {
   "collapsed_sections": [],
   "name": "Решение задания из Урока 3.ipynb",
   "private_outputs": true,
   "provenance": []
  },
  "kernelspec": {
   "display_name": "Python 3",
   "language": "python",
   "name": "python3"
  },
  "language_info": {
   "codemirror_mode": {
    "name": "ipython",
    "version": 3
   },
   "file_extension": ".py",
   "mimetype": "text/x-python",
   "name": "python",
   "nbconvert_exporter": "python",
   "pygments_lexer": "ipython3",
   "version": "3.8.3"
  }
 },
 "nbformat": 4,
 "nbformat_minor": 4
}
