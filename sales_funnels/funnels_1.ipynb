{
 "cells": [
  {
   "cell_type": "markdown",
   "metadata": {},
   "source": [
    "# Практическая аналитика: <b>Aналитическая воронка</b>\n",
    "<br>\n",
    "<br>\n",
    "\n",
    "![Многоэтапная конверсия посетителя в покупателя](img/funnel.png)"
   ]
  },
  {
   "cell_type": "markdown",
   "metadata": {},
   "source": [
    "У нас есть сайте, на который приходят *посетители* с просторов интернета, - приходят сначала на *главную страницу* на `home_page`. Потом они начинают искать нужный товар и переходят на *страницу поиска* `searsh_page`, ищут товары, выбирают и добавляют их в *корзину*. Далее, если им действительно понравилось то, что они выбрали, они начинают процесс оплаты *корзины*: переходят на *страницу оплаты* `payment_page`, вводят данные оплаты и в итоге завершают оплату на *странице завершения оплаты* `payment_confirmation`.\n",
    "\n",
    "Для посетителей сайта это ещё не конец, нужно ещё дождаться доставки товаров, а для владельца сайта именно ***завершение оплаты*** - это так называемое <u>**целевое действие**</u>, ради которого и делается сайт. <u>***Цель владельца сайта***</u> - всеми способами <u>*максимизировать целевое действие*</u> или <u>*сумму денег, оплаченных в ходе целевого действия*</u>. А <u>***цель аналитика***</u>: - понять, что <u>*максимально способствует или мешает успешному совершению целевого действия для посетителей сайта*</u>.\n",
    "\n",
    "Существует много способов нагнать посетителей на сайт (за счёт рекламы, маркетинга и т.д.). Но аналитик может <u>*помочь увеличить вероятность*</u> того, что посетитель, который зашёл на сайт, в последствии <u>*совершит покупку*</u>, т.е. <u>*совершит целевое действие*</u>.<br>\n",
    "Однако, владельцу сайта важно не количество посетителей, а <u>*целевые действия*</u>, важна <u>**вероятность**</u> того, что посетитель совершит покупку. И **аналитика** может помочь в этом деле.\n",
    "\n",
    "Тема данного *аналитического отчёта* **\"Воронки\"**, посвящена методам изучения процесса конверсии *посетителей* сайта в *покупателей*.\n",
    "\n",
    "<u>**Конверсия**</u> - это соотношение ***количества покупателей*** к ***количеству посетителей***, измеряемая в *процентах* (%).\n",
    "\n",
    "Если на главную страницу пришло **1000** человек, **500** осуществили поиск, **200** человек начали процесс покупки и **100** человек заплатили, то конверсия из посетителей в пкупателей для такого сайта:\n",
    "\n",
    "![Многоэтапная конверсия посетителя в покупателя](img/conversion.png)"
   ]
  },
  {
   "cell_type": "markdown",
   "metadata": {},
   "source": [
    "составит:\n",
    "$$\\textbf{Конверсия} = \\frac{100\\space(заплатившие)}{1000\\space(пришедшие)} \\times 100\\% = \\textbf{10%}$$\n",
    "___"
   ]
  },
  {
   "cell_type": "markdown",
   "metadata": {},
   "source": [
    "## Визуализация воронки\n",
    "\n",
    "Визуализируем воображаемую воронку с вышеуказанными цифрами *конверсии* для каждого шага воронки"
   ]
  },
  {
   "cell_type": "code",
   "execution_count": 1,
   "metadata": {},
   "outputs": [
    {
     "data": {
      "text/html": [
       "<div>\n",
       "<style scoped>\n",
       "    .dataframe tbody tr th:only-of-type {\n",
       "        vertical-align: middle;\n",
       "    }\n",
       "\n",
       "    .dataframe tbody tr th {\n",
       "        vertical-align: top;\n",
       "    }\n",
       "\n",
       "    .dataframe thead th {\n",
       "        text-align: right;\n",
       "    }\n",
       "</style>\n",
       "<table border=\"1\" class=\"dataframe\">\n",
       "  <thead>\n",
       "    <tr style=\"text-align: right;\">\n",
       "      <th></th>\n",
       "      <th>page</th>\n",
       "      <th>users</th>\n",
       "    </tr>\n",
       "  </thead>\n",
       "  <tbody>\n",
       "    <tr>\n",
       "      <th>0</th>\n",
       "      <td>1_home_page</td>\n",
       "      <td>1000</td>\n",
       "    </tr>\n",
       "    <tr>\n",
       "      <th>1</th>\n",
       "      <td>2_search_page</td>\n",
       "      <td>500</td>\n",
       "    </tr>\n",
       "    <tr>\n",
       "      <th>2</th>\n",
       "      <td>3_payment_page</td>\n",
       "      <td>200</td>\n",
       "    </tr>\n",
       "    <tr>\n",
       "      <th>3</th>\n",
       "      <td>4_payment_confirmation_page</td>\n",
       "      <td>100</td>\n",
       "    </tr>\n",
       "  </tbody>\n",
       "</table>\n",
       "</div>"
      ],
      "text/plain": [
       "                          page  users\n",
       "0                  1_home_page   1000\n",
       "1                2_search_page    500\n",
       "2               3_payment_page    200\n",
       "3  4_payment_confirmation_page    100"
      ]
     },
     "execution_count": 1,
     "metadata": {},
     "output_type": "execute_result"
    }
   ],
   "source": [
    "import pandas as pd, numpy as np\n",
    "funnel_init = {'1_home_page': 1000,\n",
    "               '2_search_page': 500,\n",
    "               '3_payment_page': 200,\n",
    "               '4_payment_confirmation_page': 100}\n",
    "df_funnel = pd.DataFrame(funnel_init.items(), columns=['page', 'users'])\n",
    "df_funnel"
   ]
  },
  {
   "cell_type": "code",
   "execution_count": 2,
   "metadata": {},
   "outputs": [
    {
     "data": {
      "image/png": "[encoded data removed]",
      "text/plain": [
       "<Figure size 432x288 with 1 Axes>"
      ]
     },
     "metadata": {
      "needs_background": "light"
     },
     "output_type": "display_data"
    }
   ],
   "source": [
    "df_funnel.sort_values('page', ascending=False, inplace=True)\n",
    "bar = df_funnel.plot.barh('page', 'users', xticks=np.arange(0,1001,250))\n",
    "bar.legend(loc=1, labels=['Количество\\nпользователей'], bbox_to_anchor=(1, 0.8, 0.4, 0.2), frameon=False)\n",
    "bar.grid(axis='x')\n",
    "bar.set_axisbelow(True)"
   ]
  },
  {
   "cell_type": "markdown",
   "metadata": {},
   "source": [
    "Теперь представим воронку в другом виде"
   ]
  },
  {
   "cell_type": "code",
   "execution_count": 3,
   "metadata": {},
   "outputs": [
    {
     "data": {
      "image/png": "[encoded data removed]",
      "text/plain": [
       "<Figure size 432x288 with 1 Axes>"
      ]
     },
     "metadata": {
      "needs_background": "light"
     },
     "output_type": "display_data"
    }
   ],
   "source": [
    "df_funnel.sort_values('page', ascending=False, inplace=True)\n",
    "bar = df_funnel.plot.barh('page', 'users', orientation='vertical', xticks=np.arange(-500,501,250), xlim=(-500,500))\n",
    "bar.set_xticklabels(np.arange(0,1001,250))\n",
    "for y, val in enumerate(df_funnel.users.values):\n",
    "    bar.text(0, y+.1, val, ha='center', va='bottom', color='w', fontsize=14)\n",
    "bar.legend(loc=9, labels=['Количество пользователей'], bbox_to_anchor=(0.3, 1, 0.5, 0.15), frameon=False)\n",
    "bar.grid(axis='x')\n",
    "bar.set_axisbelow(True)"
   ]
  },
  {
   "cell_type": "markdown",
   "metadata": {},
   "source": [
    "Сверху воронки заходят *пользователи*, а снизу из неё выходят *покупатели* (*деньги*, которые они потратили), т.е. **воронка** - это конвертация *пользователей* сайта в *деньги*.\\\n",
    "*Воронка* строится на основе данных об ативности пользователей на сайте. На основании т.н. ***кликстрима*** или ***потока кликов***.\n",
    "___"
   ]
  },
  {
   "cell_type": "markdown",
   "metadata": {},
   "source": [
    "Загрузим данные ***кликстрима*** пользователей сайта из файла [`click_stream.csv`](data/click_stream.csv \"click stream\") и рассчитаем, сколько клиентов на какой стадии воронки находится"
   ]
  },
  {
   "cell_type": "code",
   "execution_count": 4,
   "metadata": {
    "colab": {},
    "colab_type": "code",
    "id": "uBCo6ukdfrIs"
   },
   "outputs": [
    {
     "data": {
      "text/plain": [
       "{'1_home_page': 90399,\n",
       " '2_search_page': 45200,\n",
       " '3_payment_page': 6030,\n",
       " '4_payment_confirmation_page': 452}"
      ]
     },
     "execution_count": 4,
     "metadata": {},
     "output_type": "execute_result"
    }
   ],
   "source": [
    "import csv\n",
    "\n",
    "with open('data/click_stream.csv', mode='r') as csv_file: # открываем файл\n",
    "    csv_reader = csv.DictReader(csv_file) # читаем файл\n",
    "    funnel = {} # создаём словарь в который будем собирать значения\n",
    "    \n",
    "    for row in csv_reader: #перебираем по одной строчке нашего файла\n",
    "        page = list(row.values())[1] #так можно получить первый (не нулевой) элемент строки -\n",
    "        # для нашего датасета это строка, указывающая, на какой страничке было совершено действие\n",
    "        \n",
    "        # проверяем существует ли ключ с названием страницы в словаре\n",
    "        if page not in funnel:\n",
    "            funnel[page] = 1 # если нет, создаём ключ и присваиваем значение \"единица\"\n",
    "        else:\n",
    "            funnel[page] += 1 # если существует, увеличиваем значение по ключу на единицу\n",
    "\n",
    "funnel"
   ]
  },
  {
   "cell_type": "code",
   "execution_count": 5,
   "metadata": {},
   "outputs": [
    {
     "data": {
      "text/html": [
       "<div>\n",
       "<style scoped>\n",
       "    .dataframe tbody tr th:only-of-type {\n",
       "        vertical-align: middle;\n",
       "    }\n",
       "\n",
       "    .dataframe tbody tr th {\n",
       "        vertical-align: top;\n",
       "    }\n",
       "\n",
       "    .dataframe thead th {\n",
       "        text-align: right;\n",
       "    }\n",
       "</style>\n",
       "<table border=\"1\" class=\"dataframe\">\n",
       "  <thead>\n",
       "    <tr style=\"text-align: right;\">\n",
       "      <th></th>\n",
       "      <th>page</th>\n",
       "      <th>users</th>\n",
       "    </tr>\n",
       "  </thead>\n",
       "  <tbody>\n",
       "    <tr>\n",
       "      <th>0</th>\n",
       "      <td>1_home_page</td>\n",
       "      <td>90399</td>\n",
       "    </tr>\n",
       "    <tr>\n",
       "      <th>1</th>\n",
       "      <td>2_search_page</td>\n",
       "      <td>45200</td>\n",
       "    </tr>\n",
       "    <tr>\n",
       "      <th>2</th>\n",
       "      <td>3_payment_page</td>\n",
       "      <td>6030</td>\n",
       "    </tr>\n",
       "    <tr>\n",
       "      <th>3</th>\n",
       "      <td>4_payment_confirmation_page</td>\n",
       "      <td>452</td>\n",
       "    </tr>\n",
       "  </tbody>\n",
       "</table>\n",
       "</div>"
      ],
      "text/plain": [
       "                          page  users\n",
       "0                  1_home_page  90399\n",
       "1                2_search_page  45200\n",
       "2               3_payment_page   6030\n",
       "3  4_payment_confirmation_page    452"
      ]
     },
     "execution_count": 5,
     "metadata": {},
     "output_type": "execute_result"
    }
   ],
   "source": [
    "df = pd.DataFrame(funnel.items(), columns=['page', 'users'])\n",
    "df"
   ]
  },
  {
   "cell_type": "markdown",
   "metadata": {},
   "source": [
    "**Воронка** конвертации посетителей *главной страницы сайта* в *покупателей* в <u>абсолютных величинах</u>"
   ]
  },
  {
   "cell_type": "code",
   "execution_count": 6,
   "metadata": {},
   "outputs": [
    {
     "data": {
      "image/png": "[encoded data removed]",
      "text/plain": [
       "<Figure size 432x288 with 1 Axes>"
      ]
     },
     "metadata": {
      "needs_background": "light"
     },
     "output_type": "display_data"
    }
   ],
   "source": [
    "df.sort_values('page', ascending=False, inplace=True)\n",
    "bar = df.plot.barh(x='page', left=40000, xticks=np.arange(0,1e5,2.5e4), xlim=(0,1e5), y='users', rot=0, orientation='vertical')\n",
    "bar.legend(loc=9, labels=['Количество пользователей'], bbox_to_anchor=(0.3, 1, 0.5, 0.15), frameon=False)\n",
    "bar.grid(axis='x')\n",
    "bar.set_axisbelow(True)\n",
    "for y, val in enumerate(df.users.values):\n",
    "    bar.text(df.users.max()/2, y+.1, val, ha='center' if y>1 else 'left', va='bottom', color='w' if y>1 else 'black', fontsize=14)"
   ]
  },
  {
   "cell_type": "markdown",
   "metadata": {},
   "source": [
    "## Сравнение воронок\n",
    "\n",
    "А теперь сравним первую воронку с полученной только что воронкой.\\\n",
    "Чтобы сравнивать воронки рекомендуется смотреть их не в абсолютных числах, а в процентах от первого шага (в данном случае, от количества посетителей *главной страницы* сайта `home_page`)."
   ]
  },
  {
   "cell_type": "code",
   "execution_count": 7,
   "metadata": {},
   "outputs": [
    {
     "data": {
      "text/plain": [
       "{'1_home_page': 100.0,\n",
       " '2_search_page': 50.0,\n",
       " '3_payment_page': 20.0,\n",
       " '4_payment_confirmation_page': 10.0}"
      ]
     },
     "execution_count": 7,
     "metadata": {},
     "output_type": "execute_result"
    }
   ],
   "source": [
    "funnel_init_cent = {}\n",
    "for key, value in funnel_init.items():\n",
    "    funnel_init_cent[key] = round(value / funnel_init['1_home_page'] * 100, 2)\n",
    "funnel_init_cent"
   ]
  },
  {
   "cell_type": "code",
   "execution_count": 8,
   "metadata": {},
   "outputs": [
    {
     "data": {
      "text/html": [
       "<style  type=\"text/css\" >\n",
       "</style><table id=\"T_0f628216_ebef_11ea_b541_482ae308b1f1\" ><thead>    <tr>        <th class=\"blank level0\" ></th>        <th class=\"col_heading level0 col0\" >page</th>        <th class=\"col_heading level0 col1\" >users</th>    </tr></thead><tbody>\n",
       "                <tr>\n",
       "                        <th id=\"T_0f628216_ebef_11ea_b541_482ae308b1f1level0_row0\" class=\"row_heading level0 row0\" >0</th>\n",
       "                        <td id=\"T_0f628216_ebef_11ea_b541_482ae308b1f1row0_col0\" class=\"data row0 col0\" >1_home_page</td>\n",
       "                        <td id=\"T_0f628216_ebef_11ea_b541_482ae308b1f1row0_col1\" class=\"data row0 col1\" >100.00%</td>\n",
       "            </tr>\n",
       "            <tr>\n",
       "                        <th id=\"T_0f628216_ebef_11ea_b541_482ae308b1f1level0_row1\" class=\"row_heading level0 row1\" >1</th>\n",
       "                        <td id=\"T_0f628216_ebef_11ea_b541_482ae308b1f1row1_col0\" class=\"data row1 col0\" >2_search_page</td>\n",
       "                        <td id=\"T_0f628216_ebef_11ea_b541_482ae308b1f1row1_col1\" class=\"data row1 col1\" >50.00%</td>\n",
       "            </tr>\n",
       "            <tr>\n",
       "                        <th id=\"T_0f628216_ebef_11ea_b541_482ae308b1f1level0_row2\" class=\"row_heading level0 row2\" >2</th>\n",
       "                        <td id=\"T_0f628216_ebef_11ea_b541_482ae308b1f1row2_col0\" class=\"data row2 col0\" >3_payment_page</td>\n",
       "                        <td id=\"T_0f628216_ebef_11ea_b541_482ae308b1f1row2_col1\" class=\"data row2 col1\" >20.00%</td>\n",
       "            </tr>\n",
       "            <tr>\n",
       "                        <th id=\"T_0f628216_ebef_11ea_b541_482ae308b1f1level0_row3\" class=\"row_heading level0 row3\" >3</th>\n",
       "                        <td id=\"T_0f628216_ebef_11ea_b541_482ae308b1f1row3_col0\" class=\"data row3 col0\" >4_payment_confirmation_page</td>\n",
       "                        <td id=\"T_0f628216_ebef_11ea_b541_482ae308b1f1row3_col1\" class=\"data row3 col1\" >10.00%</td>\n",
       "            </tr>\n",
       "    </tbody></table>"
      ],
      "text/plain": [
       "<pandas.io.formats.style.Styler at 0x1f0aa7ccb80>"
      ]
     },
     "execution_count": 8,
     "metadata": {},
     "output_type": "execute_result"
    }
   ],
   "source": [
    "df_funnel_c = pd.DataFrame(funnel_init_cent.items(), columns=['page', 'users'])\n",
    "df_funnel_c.style.format({'users':'{:.2f}%'})"
   ]
  },
  {
   "cell_type": "code",
   "execution_count": 9,
   "metadata": {},
   "outputs": [
    {
     "data": {
      "text/plain": [
       "{'1_home_page': 100.0,\n",
       " '2_search_page': 50.0,\n",
       " '3_payment_page': 6.67,\n",
       " '4_payment_confirmation_page': 0.5}"
      ]
     },
     "execution_count": 9,
     "metadata": {},
     "output_type": "execute_result"
    }
   ],
   "source": [
    "funnel_cent = {}\n",
    "for key, value in funnel.items():\n",
    "    funnel_cent[key] = round(value / funnel['1_home_page'] * 100, 2)\n",
    "funnel_cent"
   ]
  },
  {
   "cell_type": "code",
   "execution_count": 10,
   "metadata": {},
   "outputs": [
    {
     "data": {
      "text/html": [
       "<style  type=\"text/css\" >\n",
       "</style><table id=\"T_0f684d38_ebef_11ea_9378_482ae308b1f1\" ><thead>    <tr>        <th class=\"blank level0\" ></th>        <th class=\"col_heading level0 col0\" >page</th>        <th class=\"col_heading level0 col1\" >users</th>    </tr></thead><tbody>\n",
       "                <tr>\n",
       "                        <th id=\"T_0f684d38_ebef_11ea_9378_482ae308b1f1level0_row0\" class=\"row_heading level0 row0\" >0</th>\n",
       "                        <td id=\"T_0f684d38_ebef_11ea_9378_482ae308b1f1row0_col0\" class=\"data row0 col0\" >1_home_page</td>\n",
       "                        <td id=\"T_0f684d38_ebef_11ea_9378_482ae308b1f1row0_col1\" class=\"data row0 col1\" >100.00%</td>\n",
       "            </tr>\n",
       "            <tr>\n",
       "                        <th id=\"T_0f684d38_ebef_11ea_9378_482ae308b1f1level0_row1\" class=\"row_heading level0 row1\" >1</th>\n",
       "                        <td id=\"T_0f684d38_ebef_11ea_9378_482ae308b1f1row1_col0\" class=\"data row1 col0\" >2_search_page</td>\n",
       "                        <td id=\"T_0f684d38_ebef_11ea_9378_482ae308b1f1row1_col1\" class=\"data row1 col1\" >50.00%</td>\n",
       "            </tr>\n",
       "            <tr>\n",
       "                        <th id=\"T_0f684d38_ebef_11ea_9378_482ae308b1f1level0_row2\" class=\"row_heading level0 row2\" >2</th>\n",
       "                        <td id=\"T_0f684d38_ebef_11ea_9378_482ae308b1f1row2_col0\" class=\"data row2 col0\" >3_payment_page</td>\n",
       "                        <td id=\"T_0f684d38_ebef_11ea_9378_482ae308b1f1row2_col1\" class=\"data row2 col1\" >6.67%</td>\n",
       "            </tr>\n",
       "            <tr>\n",
       "                        <th id=\"T_0f684d38_ebef_11ea_9378_482ae308b1f1level0_row3\" class=\"row_heading level0 row3\" >3</th>\n",
       "                        <td id=\"T_0f684d38_ebef_11ea_9378_482ae308b1f1row3_col0\" class=\"data row3 col0\" >4_payment_confirmation_page</td>\n",
       "                        <td id=\"T_0f684d38_ebef_11ea_9378_482ae308b1f1row3_col1\" class=\"data row3 col1\" >0.50%</td>\n",
       "            </tr>\n",
       "    </tbody></table>"
      ],
      "text/plain": [
       "<pandas.io.formats.style.Styler at 0x1f0a92c0f10>"
      ]
     },
     "execution_count": 10,
     "metadata": {},
     "output_type": "execute_result"
    }
   ],
   "source": [
    "df_c = pd.DataFrame(funnel_cent.items(), columns=['page', 'users'])\n",
    "df_c.style.format({'users':'{:.2f}%'})"
   ]
  },
  {
   "cell_type": "markdown",
   "metadata": {},
   "source": [
    "А теперь построим графики обеих вороно, выраженных в *процентах* от *главной страницы*"
   ]
  },
  {
   "cell_type": "code",
   "execution_count": 11,
   "metadata": {},
   "outputs": [
    {
     "data": {
      "image/png": "[encoded data removed]",
      "text/plain": [
       "<Figure size 864x504 with 1 Axes>"
      ]
     },
     "metadata": {
      "needs_background": "light"
     },
     "output_type": "display_data"
    },
    {
     "data": {
      "image/png": "[encoded data removed]",
      "text/plain": [
       "<Figure size 864x504 with 1 Axes>"
      ]
     },
     "metadata": {
      "needs_background": "light"
     },
     "output_type": "display_data"
    }
   ],
   "source": [
    "df_funnel_c.sort_values('page', ascending=False, inplace=True)\n",
    "df_c.sort_values('page', ascending=False, inplace=True)\n",
    "\n",
    "xticks, xlim = np.arange(-50,51,25), (-50,50)\n",
    "xticklabels = [f'{x:.2f}%' for x in np.arange(0,101,25)]\n",
    "bar1 = df_funnel_c.plot.barh(x='page', xlim=xlim, xticks=xticks, y='users', rot=0, orientation='vertical', figsize=(12,7))\n",
    "bar1.set_xticklabels(xticklabels)\n",
    "bar1.legend(loc=9, labels=['Количество пользователей'], bbox_to_anchor=(0.3, 0.95, 0.5, 0.15), frameon=False)\n",
    "bar1.grid(axis='x')\n",
    "bar1.set_axisbelow(True)\n",
    "bar1.set_ylabel(None)\n",
    "for y, val in enumerate(df_funnel_c.users.values):\n",
    "    bar1.text(0 if y>0 else 10, y+.1, f'{val:.2f}%', ha='center', va='bottom', color='w' if y>0 else 'black', fontsize=14)\n",
    "\n",
    "bar2 = df_c.plot.barh(x='page', xlim=xlim, xticks=xticks, y='users', rot=0, orientation='vertical', figsize=(12,7))\n",
    "bar2.set_xticklabels(xticklabels)\n",
    "bar2.legend(loc=9, labels=['Количество пользователей'], bbox_to_anchor=(0.3, 0.95, 0.5, 0.15), frameon=False)\n",
    "bar2.grid(axis='x')\n",
    "bar2.set_ylabel(None)\n",
    "bar2.set_axisbelow(True)\n",
    "for y, val in enumerate(df_c.users.values):\n",
    "    bar2.text(0 if y>1 else 7, y+.1, f'{val:.2f}%', ha='center', va='bottom', color='w' if y>1 else 'black', fontsize=14)"
   ]
  },
  {
   "cell_type": "markdown",
   "metadata": {},
   "source": [
    "Здесь видно, что конверсия 10% в первой воронке - это ещё не так плохо по сравнению со второй воронкой, где конверсия составляет всего лишь 0.5% процента.\\\n",
    "Сравнивая эти две воронки, мы видим что конверсия в *страницу поиска* у них практически одинаковая. Но потом начинаются значительные ухудшения.\\\n",
    "0.5% конверсия в *покупателей* - это на самом деле ещё не такая плохая конверсия для некоторых отраслей.\n",
    "\n",
    "Теперь, попробуем проанализировать, что же можно улучшить, где локализована проблема: в поиске, в платеже или где-то ещё. Для этого попробуем оценить динамику воронки со временем. В файле ***кликстрима*** [`click_stream.csv`](data/click_stream.csv \"click stream\") есть столбец с *датой*. Там содержатся данные за четыре месяца (январь, февраль, март и апрель 2015 года). Построим воронки по каждому из четырёх месяцев и сравним их, оценим, одинаковые ли они, или же меняются со временем."
   ]
  },
  {
   "cell_type": "markdown",
   "metadata": {},
   "source": [
    "___\n",
    "Продолжение в [следующем ноутбуке](funnels_2.ipynb \"funnels 2\")"
   ]
  }
 ],
 "metadata": {
  "colab": {
   "collapsed_sections": [],
   "name": "Код для загрузки данных из файла.ipynb",
   "private_outputs": true,
   "provenance": []
  },
  "kernelspec": {
   "display_name": "Python 3",
   "language": "python",
   "name": "python3"
  },
  "language_info": {
   "codemirror_mode": {
    "name": "ipython",
    "version": 3
   },
   "file_extension": ".py",
   "mimetype": "text/x-python",
   "name": "python",
   "nbconvert_exporter": "python",
   "pygments_lexer": "ipython3",
   "version": "3.8.3"
  }
 },
 "nbformat": 4,
 "nbformat_minor": 4
}
