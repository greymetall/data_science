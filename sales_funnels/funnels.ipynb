{
  "nbformat": 4,
  "nbformat_minor": 0,
  "metadata": {
    "kernelspec": {
      "display_name": "Python 3",
      "language": "python",
      "name": "python3"
    },
    "language_info": {
      "codemirror_mode": {
        "name": "ipython",
        "version": 3
      },
      "file_extension": ".py",
      "mimetype": "text/x-python",
      "name": "python",
      "nbconvert_exporter": "python",
      "pygments_lexer": "ipython3",
      "version": "3.7.6"
    },
    "colab": {
      "name": "jun_anl_funnels_hw.ipynb",
      "provenance": [],
      "collapsed_sections": [],
      "toc_visible": true,
      "include_colab_link": true
    }
  },
  "cells": [
    {
      "cell_type": "markdown",
      "metadata": {
        "id": "view-in-github",
        "colab_type": "text"
      },
      "source": [
        "<a href=\"https://colab.research.google.com/github/greymetall/data_sience/blob/master/jun_anl_funnels_hw.ipynb\" target=\"_parent\"><img src=\"https://colab.research.google.com/assets/colab-badge.svg\" alt=\"Open In Colab\"/></a>"
      ]
    },
    {
      "cell_type": "code",
      "metadata": {
        "id": "6uIuC5BTJvVZ",
        "colab_type": "code",
        "colab": {
          "base_uri": "https://localhost:8080/",
          "height": 1000
        },
        "outputId": "bc9dcf1a-0077-42e1-91ea-58b946becb0d"
      },
      "source": [
        "import csv\n",
        "import copy\n",
        "\n",
        "funnel_by_month = {} # создаем словарь, где будут храниться словари за каждый месяц\n",
        "funnel_by_device = {} # создаём словарь девайсов, где будут храниться словари словарей\n",
        "funnel_by_gender = {} # создаём словарь пола, где будут храниться словари словарей словарей\n",
        "funnel_template = {'1_home_page':0, '2_search_page':0, '3_payment_page':0, '4_payment_confirmation_page':0}\n",
        "funnel_template1 = {'2015-01': funnel_template.copy(),\n",
        "                    '2015-02': funnel_template.copy(),\n",
        "                    '2015-03': funnel_template.copy(),\n",
        "                    '2015-04': funnel_template.copy()}\n",
        "funnel_template2 = {'Desktop': copy.deepcopy(funnel_template1), 'Mobile': copy.deepcopy(funnel_template1)}\n",
        "\n",
        "with open('/content/drive/My Drive/Colab Notebooks/click_stream3.csv', mode='r') as csv_file: # открываем файл\n",
        "    csv_reader = csv.DictReader(csv_file, fieldnames=['ID','page','date','device', 'Gender']) # читаем файл\n",
        "    \n",
        "    # проходим циклом по объекту csv_reader\n",
        "    for row in csv_reader: # берем строку из объекта csv_reader\n",
        "\n",
        "        page = list(row.values())[1] # вытаскиваем название страницы\n",
        "        event_date = list(row.values())[2][:-3] # вытаскиваем дату в формате YYYY-MM\n",
        "        device = list(row.values())[3] # устройство\n",
        "        gender = list(row.values())[4] # пол\n",
        "\n",
        "        if gender not in funnel_by_gender:\n",
        "            funnel_by_gender[gender] = copy.deepcopy(funnel_template2)\n",
        "            \n",
        "        # проверяем условиями и прибавляем единицу к нужному ключу в словаре        \n",
        "        if page == '1_home_page':\n",
        "            funnel_by_gender[gender][device][event_date][page] += 1\n",
        "        elif page == '2_search_page':\n",
        "            funnel_by_gender[gender][device][event_date][page] += 1\n",
        "        elif page == '3_payment_page':\n",
        "            funnel_by_gender[gender][device][event_date][page] += 1\n",
        "        else:\n",
        "            funnel_by_gender[gender][device][event_date][page] += 1\n",
        "               \n",
        "funnel_by_gender"
      ],
      "execution_count": null,
      "outputs": [
        {
          "output_type": "execute_result",
          "data": {
            "text/plain": [
              "{'Female': {'Desktop': {'2015-01': {'1_home_page': 7546,\n",
              "    '2_search_page': 3851,\n",
              "    '3_payment_page': 625,\n",
              "    '4_payment_confirmation_page': 33},\n",
              "   '2015-02': {'1_home_page': 7448,\n",
              "    '2_search_page': 3800,\n",
              "    '3_payment_page': 605,\n",
              "    '4_payment_confirmation_page': 26},\n",
              "   '2015-03': {'1_home_page': 7512,\n",
              "    '2_search_page': 3707,\n",
              "    '3_payment_page': 162,\n",
              "    '4_payment_confirmation_page': 6},\n",
              "   '2015-04': {'1_home_page': 7491,\n",
              "    '2_search_page': 3733,\n",
              "    '3_payment_page': 138,\n",
              "    '4_payment_confirmation_page': 9}},\n",
              "  'Mobile': {'2015-01': {'1_home_page': 3868,\n",
              "    '2_search_page': 3062,\n",
              "    '3_payment_page': 618,\n",
              "    '4_payment_confirmation_page': 76},\n",
              "   '2015-02': {'1_home_page': 3751,\n",
              "    '2_search_page': 3020,\n",
              "    '3_payment_page': 630,\n",
              "    '4_payment_confirmation_page': 60},\n",
              "   '2015-03': {'1_home_page': 3738,\n",
              "    '2_search_page': 747,\n",
              "    '3_payment_page': 175,\n",
              "    '4_payment_confirmation_page': 20},\n",
              "   '2015-04': {'1_home_page': 3721,\n",
              "    '2_search_page': 756,\n",
              "    '3_payment_page': 147,\n",
              "    '4_payment_confirmation_page': 11}}},\n",
              " 'Male': {'Desktop': {'2015-01': {'1_home_page': 7504,\n",
              "    '2_search_page': 3678,\n",
              "    '3_payment_page': 596,\n",
              "    '4_payment_confirmation_page': 27},\n",
              "   '2015-02': {'1_home_page': 7602,\n",
              "    '2_search_page': 3832,\n",
              "    '3_payment_page': 586,\n",
              "    '4_payment_confirmation_page': 28},\n",
              "   '2015-03': {'1_home_page': 7538,\n",
              "    '2_search_page': 3663,\n",
              "    '3_payment_page': 134,\n",
              "    '4_payment_confirmation_page': 8},\n",
              "   '2015-04': {'1_home_page': 7559,\n",
              "    '2_search_page': 3836,\n",
              "    '3_payment_page': 164,\n",
              "    '4_payment_confirmation_page': 13}},\n",
              "  'Mobile': {'2015-01': {'1_home_page': 3682,\n",
              "    '2_search_page': 2963,\n",
              "    '3_payment_page': 551,\n",
              "    '4_payment_confirmation_page': 53},\n",
              "   '2015-02': {'1_home_page': 3799,\n",
              "    '2_search_page': 3035,\n",
              "    '3_payment_page': 591,\n",
              "    '4_payment_confirmation_page': 59},\n",
              "   '2015-03': {'1_home_page': 3812,\n",
              "    '2_search_page': 762,\n",
              "    '3_payment_page': 160,\n",
              "    '4_payment_confirmation_page': 10},\n",
              "   '2015-04': {'1_home_page': 3829,\n",
              "    '2_search_page': 755,\n",
              "    '3_payment_page': 148,\n",
              "    '4_payment_confirmation_page': 13}}}}"
            ]
          },
          "metadata": {
            "tags": []
          },
          "execution_count": 4
        }
      ]
    },
    {
      "cell_type": "code",
      "metadata": {
        "id": "w26_qVOqQtSF",
        "colab_type": "code",
        "colab": {
          "base_uri": "https://localhost:8080/",
          "height": 126
        },
        "outputId": "e4460b7e-74d7-4767-f1a2-f3168bd67868"
      },
      "source": [
        "from google.colab import drive\n",
        "drive.mount('/content/drive')"
      ],
      "execution_count": null,
      "outputs": [
        {
          "output_type": "stream",
          "text": [
            "Go to this URL in a browser: https://accounts.google.com/o/oauth2/auth?client_id=947318989803-6bn6qk8qdgf4n4g3pfee6491hc0brc4i.apps.googleusercontent.com&redirect_uri=urn%3aietf%3awg%3aoauth%3a2.0%3aoob&response_type=code&scope=email%20https%3a%2f%2fwww.googleapis.com%2fauth%2fdocs.test%20https%3a%2f%2fwww.googleapis.com%2fauth%2fdrive%20https%3a%2f%2fwww.googleapis.com%2fauth%2fdrive.photos.readonly%20https%3a%2f%2fwww.googleapis.com%2fauth%2fpeopleapi.readonly\n",
            "\n",
            "Enter your authorization code:\n",
            "··········\n",
            "Mounted at /content/drive\n"
          ],
          "name": "stdout"
        }
      ]
    },
    {
      "cell_type": "code",
      "metadata": {
        "id": "lN_4X8v1B0I5",
        "colab_type": "code",
        "colab": {
          "base_uri": "https://localhost:8080/",
          "height": 164
        },
        "outputId": "99a5d10b-7f2d-483e-ca0e-95e64c57bdf5"
      },
      "source": [
        "import pandas as pd\n",
        "import numpy as np\n",
        "import math\n",
        "df_female_m = pd.DataFrame(funnel_by_gender['Female']['Mobile'])\n",
        "procent = lambda x: round(x * 100 / x[0], 2)\n",
        "df_female_m.astype(str) + '(' + df_female_m.apply(procent).astype(str) + '%)'\n",
        "df_female_m"
      ],
      "execution_count": null,
      "outputs": [
        {
          "output_type": "execute_result",
          "data": {
            "text/html": [
              "<div>\n",
              "<style scoped>\n",
              "    .dataframe tbody tr th:only-of-type {\n",
              "        vertical-align: middle;\n",
              "    }\n",
              "\n",
              "    .dataframe tbody tr th {\n",
              "        vertical-align: top;\n",
              "    }\n",
              "\n",
              "    .dataframe thead th {\n",
              "        text-align: right;\n",
              "    }\n",
              "</style>\n",
              "<table border=\"1\" class=\"dataframe\">\n",
              "  <thead>\n",
              "    <tr style=\"text-align: right;\">\n",
              "      <th></th>\n",
              "      <th>2015-01</th>\n",
              "      <th>2015-02</th>\n",
              "      <th>2015-03</th>\n",
              "      <th>2015-04</th>\n",
              "    </tr>\n",
              "  </thead>\n",
              "  <tbody>\n",
              "    <tr>\n",
              "      <th>1_home_page</th>\n",
              "      <td>3868</td>\n",
              "      <td>3751</td>\n",
              "      <td>3738</td>\n",
              "      <td>3721</td>\n",
              "    </tr>\n",
              "    <tr>\n",
              "      <th>2_search_page</th>\n",
              "      <td>3062</td>\n",
              "      <td>3020</td>\n",
              "      <td>747</td>\n",
              "      <td>756</td>\n",
              "    </tr>\n",
              "    <tr>\n",
              "      <th>3_payment_page</th>\n",
              "      <td>618</td>\n",
              "      <td>630</td>\n",
              "      <td>175</td>\n",
              "      <td>147</td>\n",
              "    </tr>\n",
              "    <tr>\n",
              "      <th>4_payment_confirmation_page</th>\n",
              "      <td>76</td>\n",
              "      <td>60</td>\n",
              "      <td>20</td>\n",
              "      <td>11</td>\n",
              "    </tr>\n",
              "  </tbody>\n",
              "</table>\n",
              "</div>"
            ],
            "text/plain": [
              "                             2015-01  2015-02  2015-03  2015-04\n",
              "1_home_page                     3868     3751     3738     3721\n",
              "2_search_page                   3062     3020      747      756\n",
              "3_payment_page                   618      630      175      147\n",
              "4_payment_confirmation_page       76       60       20       11"
            ]
          },
          "metadata": {
            "tags": []
          },
          "execution_count": 22
        }
      ]
    },
    {
      "cell_type": "code",
      "metadata": {
        "id": "q_HIGJSHR3_b",
        "colab_type": "code",
        "colab": {
          "base_uri": "https://localhost:8080/",
          "height": 164
        },
        "outputId": "b63a8bae-806e-4adb-b088-a5a8f5feaaa5"
      },
      "source": [
        "df_female_m.agg(procent)"
      ],
      "execution_count": null,
      "outputs": [
        {
          "output_type": "execute_result",
          "data": {
            "text/html": [
              "<div>\n",
              "<style scoped>\n",
              "    .dataframe tbody tr th:only-of-type {\n",
              "        vertical-align: middle;\n",
              "    }\n",
              "\n",
              "    .dataframe tbody tr th {\n",
              "        vertical-align: top;\n",
              "    }\n",
              "\n",
              "    .dataframe thead th {\n",
              "        text-align: right;\n",
              "    }\n",
              "</style>\n",
              "<table border=\"1\" class=\"dataframe\">\n",
              "  <thead>\n",
              "    <tr style=\"text-align: right;\">\n",
              "      <th></th>\n",
              "      <th>2015-01</th>\n",
              "      <th>2015-02</th>\n",
              "      <th>2015-03</th>\n",
              "      <th>2015-04</th>\n",
              "    </tr>\n",
              "  </thead>\n",
              "  <tbody>\n",
              "    <tr>\n",
              "      <th>1_home_page</th>\n",
              "      <td>100.00</td>\n",
              "      <td>100.00</td>\n",
              "      <td>100.00</td>\n",
              "      <td>100.00</td>\n",
              "    </tr>\n",
              "    <tr>\n",
              "      <th>2_search_page</th>\n",
              "      <td>79.16</td>\n",
              "      <td>80.51</td>\n",
              "      <td>19.98</td>\n",
              "      <td>20.32</td>\n",
              "    </tr>\n",
              "    <tr>\n",
              "      <th>3_payment_page</th>\n",
              "      <td>15.98</td>\n",
              "      <td>16.80</td>\n",
              "      <td>4.68</td>\n",
              "      <td>3.95</td>\n",
              "    </tr>\n",
              "    <tr>\n",
              "      <th>4_payment_confirmation_page</th>\n",
              "      <td>1.96</td>\n",
              "      <td>1.60</td>\n",
              "      <td>0.54</td>\n",
              "      <td>0.30</td>\n",
              "    </tr>\n",
              "  </tbody>\n",
              "</table>\n",
              "</div>"
            ],
            "text/plain": [
              "                             2015-01  2015-02  2015-03  2015-04\n",
              "1_home_page                   100.00   100.00   100.00   100.00\n",
              "2_search_page                  79.16    80.51    19.98    20.32\n",
              "3_payment_page                 15.98    16.80     4.68     3.95\n",
              "4_payment_confirmation_page     1.96     1.60     0.54     0.30"
            ]
          },
          "metadata": {
            "tags": []
          },
          "execution_count": 10
        }
      ]
    },
    {
      "cell_type": "code",
      "metadata": {
        "id": "YKYUZwQOSAPC",
        "colab_type": "code",
        "colab": {
          "base_uri": "https://localhost:8080/",
          "height": 106
        },
        "outputId": "e39561f1-e37d-4019-f95d-301e002d49be"
      },
      "source": [
        "df_female_m['2015-04'].apply(math.sin)"
      ],
      "execution_count": null,
      "outputs": [
        {
          "output_type": "execute_result",
          "data": {
            "text/plain": [
              "1_home_page                    0.976656\n",
              "2_search_page                  0.901762\n",
              "3_payment_page                 0.609044\n",
              "4_payment_confirmation_page   -0.999990\n",
              "Name: 2015-04, dtype: float64"
            ]
          },
          "metadata": {
            "tags": []
          },
          "execution_count": 27
        }
      ]
    },
    {
      "cell_type": "code",
      "metadata": {
        "id": "6fNyRNpfSAgI",
        "colab_type": "code",
        "colab": {
          "base_uri": "https://localhost:8080/",
          "height": 106
        },
        "outputId": "906fb7db-8d99-4c6a-97c8-cd9b4ec7baa9"
      },
      "source": [
        "df_female_m['2015-04'].agg(math.sin)"
      ],
      "execution_count": null,
      "outputs": [
        {
          "output_type": "execute_result",
          "data": {
            "text/plain": [
              "1_home_page                    0.976656\n",
              "2_search_page                  0.901762\n",
              "3_payment_page                 0.609044\n",
              "4_payment_confirmation_page   -0.999990\n",
              "Name: 2015-04, dtype: float64"
            ]
          },
          "metadata": {
            "tags": []
          },
          "execution_count": 29
        }
      ]
    },
    {
      "cell_type": "code",
      "metadata": {
        "id": "KxVBWHGTB0Y5",
        "colab_type": "code",
        "colab": {
          "base_uri": "https://localhost:8080/",
          "height": 164
        },
        "outputId": "5820f4d3-c0e3-4301-cef8-d05ef2051a3b"
      },
      "source": [
        "df_male_m = pd.DataFrame(funnel_by_gender['Male']['Mobile'])\n",
        "df_male_m.astype(str) + '(' + df_male_m.apply(procent).astype(str) + '%)'"
      ],
      "execution_count": null,
      "outputs": [
        {
          "output_type": "execute_result",
          "data": {
            "text/html": [
              "<div>\n",
              "<style scoped>\n",
              "    .dataframe tbody tr th:only-of-type {\n",
              "        vertical-align: middle;\n",
              "    }\n",
              "\n",
              "    .dataframe tbody tr th {\n",
              "        vertical-align: top;\n",
              "    }\n",
              "\n",
              "    .dataframe thead th {\n",
              "        text-align: right;\n",
              "    }\n",
              "</style>\n",
              "<table border=\"1\" class=\"dataframe\">\n",
              "  <thead>\n",
              "    <tr style=\"text-align: right;\">\n",
              "      <th></th>\n",
              "      <th>2015-01</th>\n",
              "      <th>2015-02</th>\n",
              "      <th>2015-03</th>\n",
              "      <th>2015-04</th>\n",
              "    </tr>\n",
              "  </thead>\n",
              "  <tbody>\n",
              "    <tr>\n",
              "      <th>1_home_page</th>\n",
              "      <td>3682(100.0%)</td>\n",
              "      <td>3799(100.0%)</td>\n",
              "      <td>3812(100.0%)</td>\n",
              "      <td>3829(100.0%)</td>\n",
              "    </tr>\n",
              "    <tr>\n",
              "      <th>2_search_page</th>\n",
              "      <td>2963(80.47%)</td>\n",
              "      <td>3035(79.89%)</td>\n",
              "      <td>762(19.99%)</td>\n",
              "      <td>755(19.72%)</td>\n",
              "    </tr>\n",
              "    <tr>\n",
              "      <th>3_payment_page</th>\n",
              "      <td>551(14.96%)</td>\n",
              "      <td>591(15.56%)</td>\n",
              "      <td>160(4.2%)</td>\n",
              "      <td>148(3.87%)</td>\n",
              "    </tr>\n",
              "    <tr>\n",
              "      <th>4_payment_confirmation_page</th>\n",
              "      <td>53(1.44%)</td>\n",
              "      <td>59(1.55%)</td>\n",
              "      <td>10(0.26%)</td>\n",
              "      <td>13(0.34%)</td>\n",
              "    </tr>\n",
              "  </tbody>\n",
              "</table>\n",
              "</div>"
            ],
            "text/plain": [
              "                                  2015-01  ...       2015-04\n",
              "1_home_page                  3682(100.0%)  ...  3829(100.0%)\n",
              "2_search_page                2963(80.47%)  ...   755(19.72%)\n",
              "3_payment_page                551(14.96%)  ...    148(3.87%)\n",
              "4_payment_confirmation_page     53(1.44%)  ...     13(0.34%)\n",
              "\n",
              "[4 rows x 4 columns]"
            ]
          },
          "metadata": {
            "tags": []
          },
          "execution_count": 95
        }
      ]
    },
    {
      "cell_type": "markdown",
      "metadata": {
        "id": "qpyOvnWYfuGA",
        "colab_type": "text"
      },
      "source": [
        "На **мобильных устройствах** помимо `страницы поиска`, видно также резкое падение на `странице подверждения` для мужчин в марте - аж в **два раза!**. И на 30% в январе.<br>\n",
        "Также видно, что с января по март *мужчины переходили меньше женщин* к `странице оплаты` на *~10%*, но к апрелю показатели сравнялись."
      ]
    },
    {
      "cell_type": "code",
      "metadata": {
        "id": "xSc9QjqSByqZ",
        "colab_type": "code",
        "colab": {
          "base_uri": "https://localhost:8080/",
          "height": 164
        },
        "outputId": "039025df-8831-4853-c14f-106b35ad94c7"
      },
      "source": [
        "df_female_d = pd.DataFrame(funnel_by_gender['Female']['Desktop'])\n",
        "df_female_d.astype(str) + '(' + df_female_d.apply(procent).astype(str) + '%)'"
      ],
      "execution_count": null,
      "outputs": [
        {
          "output_type": "execute_result",
          "data": {
            "text/html": [
              "<div>\n",
              "<style scoped>\n",
              "    .dataframe tbody tr th:only-of-type {\n",
              "        vertical-align: middle;\n",
              "    }\n",
              "\n",
              "    .dataframe tbody tr th {\n",
              "        vertical-align: top;\n",
              "    }\n",
              "\n",
              "    .dataframe thead th {\n",
              "        text-align: right;\n",
              "    }\n",
              "</style>\n",
              "<table border=\"1\" class=\"dataframe\">\n",
              "  <thead>\n",
              "    <tr style=\"text-align: right;\">\n",
              "      <th></th>\n",
              "      <th>2015-01</th>\n",
              "      <th>2015-02</th>\n",
              "      <th>2015-03</th>\n",
              "      <th>2015-04</th>\n",
              "    </tr>\n",
              "  </thead>\n",
              "  <tbody>\n",
              "    <tr>\n",
              "      <th>1_home_page</th>\n",
              "      <td>7546(100.0%)</td>\n",
              "      <td>7448(100.0%)</td>\n",
              "      <td>7512(100.0%)</td>\n",
              "      <td>7491(100.0%)</td>\n",
              "    </tr>\n",
              "    <tr>\n",
              "      <th>2_search_page</th>\n",
              "      <td>3851(51.03%)</td>\n",
              "      <td>3800(51.02%)</td>\n",
              "      <td>3707(49.35%)</td>\n",
              "      <td>3733(49.83%)</td>\n",
              "    </tr>\n",
              "    <tr>\n",
              "      <th>3_payment_page</th>\n",
              "      <td>625(8.28%)</td>\n",
              "      <td>605(8.12%)</td>\n",
              "      <td>162(2.16%)</td>\n",
              "      <td>138(1.84%)</td>\n",
              "    </tr>\n",
              "    <tr>\n",
              "      <th>4_payment_confirmation_page</th>\n",
              "      <td>33(0.44%)</td>\n",
              "      <td>26(0.35%)</td>\n",
              "      <td>6(0.08%)</td>\n",
              "      <td>9(0.12%)</td>\n",
              "    </tr>\n",
              "  </tbody>\n",
              "</table>\n",
              "</div>"
            ],
            "text/plain": [
              "                                  2015-01  ...       2015-04\n",
              "1_home_page                  7546(100.0%)  ...  7491(100.0%)\n",
              "2_search_page                3851(51.03%)  ...  3733(49.83%)\n",
              "3_payment_page                 625(8.28%)  ...    138(1.84%)\n",
              "4_payment_confirmation_page     33(0.44%)  ...      9(0.12%)\n",
              "\n",
              "[4 rows x 4 columns]"
            ]
          },
          "metadata": {
            "tags": []
          },
          "execution_count": 93
        }
      ]
    },
    {
      "cell_type": "code",
      "metadata": {
        "id": "46-P1DUGB0Rb",
        "colab_type": "code",
        "colab": {
          "base_uri": "https://localhost:8080/",
          "height": 164
        },
        "outputId": "808635df-438c-43a0-ee81-eebdd186fc13"
      },
      "source": [
        "df_male_d = pd.DataFrame(funnel_by_gender['Male']['Desktop'])\n",
        "df_male_d.astype(str) + '(' + df_male_d.apply(procent).astype(str) + '%)'"
      ],
      "execution_count": null,
      "outputs": [
        {
          "output_type": "execute_result",
          "data": {
            "text/html": [
              "<div>\n",
              "<style scoped>\n",
              "    .dataframe tbody tr th:only-of-type {\n",
              "        vertical-align: middle;\n",
              "    }\n",
              "\n",
              "    .dataframe tbody tr th {\n",
              "        vertical-align: top;\n",
              "    }\n",
              "\n",
              "    .dataframe thead th {\n",
              "        text-align: right;\n",
              "    }\n",
              "</style>\n",
              "<table border=\"1\" class=\"dataframe\">\n",
              "  <thead>\n",
              "    <tr style=\"text-align: right;\">\n",
              "      <th></th>\n",
              "      <th>2015-01</th>\n",
              "      <th>2015-02</th>\n",
              "      <th>2015-03</th>\n",
              "      <th>2015-04</th>\n",
              "    </tr>\n",
              "  </thead>\n",
              "  <tbody>\n",
              "    <tr>\n",
              "      <th>1_home_page</th>\n",
              "      <td>7504(100.0%)</td>\n",
              "      <td>7602(100.0%)</td>\n",
              "      <td>7538(100.0%)</td>\n",
              "      <td>7559(100.0%)</td>\n",
              "    </tr>\n",
              "    <tr>\n",
              "      <th>2_search_page</th>\n",
              "      <td>3678(49.01%)</td>\n",
              "      <td>3832(50.41%)</td>\n",
              "      <td>3663(48.59%)</td>\n",
              "      <td>3836(50.75%)</td>\n",
              "    </tr>\n",
              "    <tr>\n",
              "      <th>3_payment_page</th>\n",
              "      <td>596(7.94%)</td>\n",
              "      <td>586(7.71%)</td>\n",
              "      <td>134(1.78%)</td>\n",
              "      <td>164(2.17%)</td>\n",
              "    </tr>\n",
              "    <tr>\n",
              "      <th>4_payment_confirmation_page</th>\n",
              "      <td>27(0.36%)</td>\n",
              "      <td>28(0.37%)</td>\n",
              "      <td>8(0.11%)</td>\n",
              "      <td>13(0.17%)</td>\n",
              "    </tr>\n",
              "  </tbody>\n",
              "</table>\n",
              "</div>"
            ],
            "text/plain": [
              "                                  2015-01  ...       2015-04\n",
              "1_home_page                  7504(100.0%)  ...  7559(100.0%)\n",
              "2_search_page                3678(49.01%)  ...  3836(50.75%)\n",
              "3_payment_page                 596(7.94%)  ...    164(2.17%)\n",
              "4_payment_confirmation_page     27(0.36%)  ...     13(0.17%)\n",
              "\n",
              "[4 rows x 4 columns]"
            ]
          },
          "metadata": {
            "tags": []
          },
          "execution_count": 98
        }
      ]
    },
    {
      "cell_type": "markdown",
      "metadata": {
        "id": "Kt4a8vqdf5rw",
        "colab_type": "text"
      },
      "source": [
        "На **десктопах** на `странице платежа` падение показателей для мужчин больше, чем для женщин. С января по март идёт падение. В марте разрыв между женщинами и мужчинами, перешедшими на `страницу оплаты`, составил *20%*.<br>\n",
        "Однако, в апреле мужчины на *20%* больше переходили на `страницу оплаты заказа`.\n",
        "На `страницу подтверждения заказа` ***мужчины переходили чаще женщин***, несмотря на более низкие показатели на `странице оплаты` с февраля по апрель. В матре конверсия перехода составила *6%* для мужчин против *3.7%* для женщин.<br>\n",
        "В апреле конверсия перехода от `страницы оплаты` к `странице подтверждения` составила для мужчин *8%*, а для женщин *6.5%*."
      ]
    },
    {
      "cell_type": "markdown",
      "metadata": {
        "id": "JI-JpPu2jmuq",
        "colab_type": "text"
      },
      "source": [
        "###Выводы:\n",
        "Мы выяснили, что на `странице поиска` для **мобильных устройств** в марте-апреле падение было ***и у мужчин и у женщин***. На `странице оплаты` в январе и феврале небольшое ухудшение показателей у ***мужчин***.<br>\n",
        "А вот на `странице подтверждения` для ***мужчин*** падение составило *30%* в январе, а в марте - на *50%*! К апрелю показатели выровнялись.<br>\n",
        "На **десктопах** на `странице оплаты` в матре было падение на *20%* у ***мужчин*** по сравнению с ***женщинами***, а вот в апреле - наоборот - у ***женщин*** показатели упали на *20%* по отношению к ***мужчинам***.<br>\n",
        "На `странице подтверждения оплаты` наблюдается <u>сильное падение конверсии</u> для ***женщин*** в матре - всего *3.7%* против *6%* для ***мужчин***. В апреле <u>показатель конверсии</u> для ***женщин*** подрос до *6.5%*, а у мужчин - до *8%*.<br>\n",
        "По итогам, обнаружены отконения показателей воронки в зависимости от пола посетителей страниц сайта. Но насколько значимы эти отклонения, ответить можно лишь после того, как будут сделаны A/B тесты."
      ]
    }
  ]
}