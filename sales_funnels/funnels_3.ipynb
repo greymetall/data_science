{
 "cells": [
  {
   "cell_type": "markdown",
   "metadata": {},
   "source": [
    "# Влияние типов устройств на конверсию воронки\n",
    "\n",
    "- [Загрузка данныx кликстрима из файла [`click_stream2.csv`](data/click_stream2.csv \"click stream 2\")](#Детализация-воронки-до-типа-устройства)\n",
    "- [Конверсия перехода для Mobile-устройств](#Конверсия-перехода-для-Мобильных-устройств-(Mobile))\n",
    "- [Конверсия перехода для Desktop устройств](#Конверсия-перехода-для-Десктопных-устройств-(Desktop))\n",
    "- [Выводы: происходит ли ухудшение воронки, обнаруженное в 3 уроке, только на одном устройстве, или на всех](#Выводы)"
   ]
  },
  {
   "cell_type": "markdown",
   "metadata": {},
   "source": [
    "## Детализация воронки до типа устройства\n",
    "\n",
    "Для начала загрузим данные кликстрима и посчитаем количество переходов в разрезе *типов устройств*. А затем попытаемся оценить как влияет *тип устройства* на падение конверсии воронки между февралём и мартом 2015 года (в тех месяцах, где наблюдаются проблемы, как мы выяснили ранее)."
   ]
  },
  {
   "cell_type": "code",
   "execution_count": 1,
   "metadata": {
    "collapsed": true,
    "jupyter": {
     "outputs_hidden": true
    }
   },
   "outputs": [
    {
     "data": {
      "text/plain": [
       "{'Desktop': {'2015-01': {'1_home_page': 15050,\n",
       "   '2_search_page': 7529,\n",
       "   '3_payment_page': 1221,\n",
       "   '4_payment_confirmation_page': 60},\n",
       "  '2015-02': {'1_home_page': 15050,\n",
       "   '2_search_page': 7632,\n",
       "   '3_payment_page': 1191,\n",
       "   '4_payment_confirmation_page': 54},\n",
       "  '2015-03': {'1_home_page': 15050,\n",
       "   '2_search_page': 7370,\n",
       "   '3_payment_page': 296,\n",
       "   '4_payment_confirmation_page': 14},\n",
       "  '2015-04': {'1_home_page': 15050,\n",
       "   '2_search_page': 7569,\n",
       "   '3_payment_page': 302,\n",
       "   '4_payment_confirmation_page': 22}},\n",
       " 'Mobile': {'2015-01': {'1_home_page': 7550,\n",
       "   '2_search_page': 6025,\n",
       "   '3_payment_page': 1169,\n",
       "   '4_payment_confirmation_page': 129},\n",
       "  '2015-02': {'1_home_page': 7550,\n",
       "   '2_search_page': 6055,\n",
       "   '3_payment_page': 1221,\n",
       "   '4_payment_confirmation_page': 119},\n",
       "  '2015-03': {'1_home_page': 7550,\n",
       "   '2_search_page': 1509,\n",
       "   '3_payment_page': 335,\n",
       "   '4_payment_confirmation_page': 30},\n",
       "  '2015-04': {'1_home_page': 7550,\n",
       "   '2_search_page': 1511,\n",
       "   '3_payment_page': 295,\n",
       "   '4_payment_confirmation_page': 24}}}"
      ]
     },
     "execution_count": 1,
     "metadata": {},
     "output_type": "execute_result"
    }
   ],
   "source": [
    "import csv\n",
    "from copy import deepcopy as dcopy\n",
    "\n",
    "funnel_by_device = {} # создаём словарь девайсов, где будут храниться словари словарей\n",
    "funnel_by_month = {} # создаем словарь, где будут храниться словари за каждый месяц\n",
    "funnel_template = {'1_home_page':0, '2_search_page':0, '3_payment_page':0, '4_payment_confirmation_page':0}\n",
    "funnel_template1 = {'2015-01': funnel_template.copy(),\n",
    "                    '2015-02': funnel_template.copy(),\n",
    "                    '2015-03': funnel_template.copy(),\n",
    "                    '2015-04': funnel_template.copy()}\n",
    "\n",
    "with open('data/click_stream2.csv', mode='r') as csv_file: # открываем файл\n",
    "    csv_reader = csv.DictReader(csv_file, fieldnames=['ID','page','date','device']) # читаем файл\n",
    "    \n",
    "    # проходим циклом по объекту csv_reader\n",
    "    for row in csv_reader: # берем строку из объекта csv_reader\n",
    "\n",
    "        page = list(row.values())[1] # вытаскиваем название страницы\n",
    "        event_date = list(row.values())[2][:-3] # вытаскиваем дату в формате YYYY-MM\n",
    "        device = list(row.values())[3] # устройство\n",
    "\n",
    "        if device not in funnel_by_device:\n",
    "            funnel_by_device[device] = dcopy(funnel_template1)\n",
    "            \n",
    "            # проверяем условиями и прибавляем единицу к нужному ключу в словаре        \n",
    "        if page == '1_home_page':\n",
    "            funnel_by_device[device][event_date][page] += 1\n",
    "        elif page == '2_search_page':\n",
    "            funnel_by_device[device][event_date][page] += 1\n",
    "        elif page == '3_payment_page':\n",
    "            funnel_by_device[device][event_date][page] += 1\n",
    "        else:\n",
    "            funnel_by_device[device][event_date][page] += 1\n",
    "               \n",
    "funnel_by_device"
   ]
  },
  {
   "cell_type": "markdown",
   "metadata": {},
   "source": [
    "## Конверсия перехода для **Мобильных устройств** (Mobile)"
   ]
  },
  {
   "cell_type": "code",
   "execution_count": 2,
   "metadata": {},
   "outputs": [
    {
     "data": {
      "text/html": [
       "<style  type=\"text/css\" >\n",
       "    #T_c11d7842_ebef_11ea_ad2d_482ae308b1f1 tr:nth-of-type(1) td {\n",
       "          background-color: lightgreen;\n",
       "    }    #T_c11d7842_ebef_11ea_ad2d_482ae308b1f1 tr:nth-of-type(2) {\n",
       "          background-color: lightpink;\n",
       "    }</style><table id=\"T_c11d7842_ebef_11ea_ad2d_482ae308b1f1\" ><thead>    <tr>        <th class=\"blank level0\" ></th>        <th class=\"col_heading level0 col0\" >2015-01</th>        <th class=\"col_heading level0 col1\" >2015-02</th>        <th class=\"col_heading level0 col2\" >2015-03</th>        <th class=\"col_heading level0 col3\" >2015-04</th>    </tr></thead><tbody>\n",
       "                <tr>\n",
       "                        <th id=\"T_c11d7842_ebef_11ea_ad2d_482ae308b1f1level0_row0\" class=\"row_heading level0 row0\" >1_home_page</th>\n",
       "                        <td id=\"T_c11d7842_ebef_11ea_ad2d_482ae308b1f1row0_col0\" class=\"data row0 col0\" >7550</td>\n",
       "                        <td id=\"T_c11d7842_ebef_11ea_ad2d_482ae308b1f1row0_col1\" class=\"data row0 col1\" >7550</td>\n",
       "                        <td id=\"T_c11d7842_ebef_11ea_ad2d_482ae308b1f1row0_col2\" class=\"data row0 col2\" >7550</td>\n",
       "                        <td id=\"T_c11d7842_ebef_11ea_ad2d_482ae308b1f1row0_col3\" class=\"data row0 col3\" >7550</td>\n",
       "            </tr>\n",
       "            <tr>\n",
       "                        <th id=\"T_c11d7842_ebef_11ea_ad2d_482ae308b1f1level0_row1\" class=\"row_heading level0 row1\" >2_search_page</th>\n",
       "                        <td id=\"T_c11d7842_ebef_11ea_ad2d_482ae308b1f1row1_col0\" class=\"data row1 col0\" >6025</td>\n",
       "                        <td id=\"T_c11d7842_ebef_11ea_ad2d_482ae308b1f1row1_col1\" class=\"data row1 col1\" >6055</td>\n",
       "                        <td id=\"T_c11d7842_ebef_11ea_ad2d_482ae308b1f1row1_col2\" class=\"data row1 col2\" >(!!!) 1509</td>\n",
       "                        <td id=\"T_c11d7842_ebef_11ea_ad2d_482ae308b1f1row1_col3\" class=\"data row1 col3\" >1511</td>\n",
       "            </tr>\n",
       "            <tr>\n",
       "                        <th id=\"T_c11d7842_ebef_11ea_ad2d_482ae308b1f1level0_row2\" class=\"row_heading level0 row2\" >3_payment_page</th>\n",
       "                        <td id=\"T_c11d7842_ebef_11ea_ad2d_482ae308b1f1row2_col0\" class=\"data row2 col0\" >1169</td>\n",
       "                        <td id=\"T_c11d7842_ebef_11ea_ad2d_482ae308b1f1row2_col1\" class=\"data row2 col1\" >1221</td>\n",
       "                        <td id=\"T_c11d7842_ebef_11ea_ad2d_482ae308b1f1row2_col2\" class=\"data row2 col2\" >335</td>\n",
       "                        <td id=\"T_c11d7842_ebef_11ea_ad2d_482ae308b1f1row2_col3\" class=\"data row2 col3\" >295</td>\n",
       "            </tr>\n",
       "            <tr>\n",
       "                        <th id=\"T_c11d7842_ebef_11ea_ad2d_482ae308b1f1level0_row3\" class=\"row_heading level0 row3\" >4_payment_confirmation_page</th>\n",
       "                        <td id=\"T_c11d7842_ebef_11ea_ad2d_482ae308b1f1row3_col0\" class=\"data row3 col0\" >129</td>\n",
       "                        <td id=\"T_c11d7842_ebef_11ea_ad2d_482ae308b1f1row3_col1\" class=\"data row3 col1\" >119</td>\n",
       "                        <td id=\"T_c11d7842_ebef_11ea_ad2d_482ae308b1f1row3_col2\" class=\"data row3 col2\" >30</td>\n",
       "                        <td id=\"T_c11d7842_ebef_11ea_ad2d_482ae308b1f1row3_col3\" class=\"data row3 col3\" >24</td>\n",
       "            </tr>\n",
       "    </tbody></table>"
      ],
      "text/plain": [
       "<pandas.io.formats.style.Styler at 0x2318cd79400>"
      ]
     },
     "execution_count": 2,
     "metadata": {},
     "output_type": "execute_result"
    }
   ],
   "source": [
    "import pandas as pd, numpy as np\n",
    "\n",
    "df_mobile = pd.DataFrame(funnel_by_device['Mobile'])\n",
    "df_mobile.style.set_table_styles(\n",
    "    [{'selector': 'tr:nth-of-type(1) td',\n",
    "      'props': [('background-color', 'lightgreen')]},\n",
    "     {'selector': 'tr:nth-of-type(2)',\n",
    "      'props': [('background-color', 'lightpink')]}\n",
    "    ]\n",
    "                                )\\\n",
    "    .format('(!!!) {}', subset=pd.IndexSlice['2_search_page', '2015-03'])"
   ]
  },
  {
   "cell_type": "markdown",
   "metadata": {},
   "source": [
    "Здесь мы видим, что количество посещений *главной страницы* идентично во всех месяцах (7550 посещений), но на *странице поиска* происходит ***резкое падение*** с 6000 до 1500 (!!!)\n",
    "\n",
    "Визуализируем изменение количества посетителей для *страницы поиска*"
   ]
  },
  {
   "cell_type": "code",
   "execution_count": 3,
   "metadata": {},
   "outputs": [
    {
     "data": {
      "text/html": [
       "<div>\n",
       "<style scoped>\n",
       "    .dataframe tbody tr th:only-of-type {\n",
       "        vertical-align: middle;\n",
       "    }\n",
       "\n",
       "    .dataframe tbody tr th {\n",
       "        vertical-align: top;\n",
       "    }\n",
       "\n",
       "    .dataframe thead th {\n",
       "        text-align: right;\n",
       "    }\n",
       "</style>\n",
       "<table border=\"1\" class=\"dataframe\">\n",
       "  <thead>\n",
       "    <tr style=\"text-align: right;\">\n",
       "      <th></th>\n",
       "      <th>2_search_page</th>\n",
       "      <th>month</th>\n",
       "    </tr>\n",
       "  </thead>\n",
       "  <tbody>\n",
       "    <tr>\n",
       "      <th>2015-01</th>\n",
       "      <td>6025</td>\n",
       "      <td>2015-01</td>\n",
       "    </tr>\n",
       "    <tr>\n",
       "      <th>2015-02</th>\n",
       "      <td>6055</td>\n",
       "      <td>2015-02</td>\n",
       "    </tr>\n",
       "    <tr>\n",
       "      <th>2015-03</th>\n",
       "      <td>1509</td>\n",
       "      <td>2015-03</td>\n",
       "    </tr>\n",
       "    <tr>\n",
       "      <th>2015-04</th>\n",
       "      <td>1511</td>\n",
       "      <td>2015-04</td>\n",
       "    </tr>\n",
       "  </tbody>\n",
       "</table>\n",
       "</div>"
      ],
      "text/plain": [
       "         2_search_page    month\n",
       "2015-01           6025  2015-01\n",
       "2015-02           6055  2015-02\n",
       "2015-03           1509  2015-03\n",
       "2015-04           1511  2015-04"
      ]
     },
     "execution_count": 3,
     "metadata": {},
     "output_type": "execute_result"
    }
   ],
   "source": [
    "df_diag_m = df_mobile.iloc[1:2, :].T\n",
    "df_diag_m['month'] = df_diag_m.index\n",
    "df_diag_m"
   ]
  },
  {
   "cell_type": "code",
   "execution_count": 4,
   "metadata": {},
   "outputs": [
    {
     "data": {
      "image/png": "[encoded data removed]",
      "text/plain": [
       "<Figure size 432x288 with 1 Axes>"
      ]
     },
     "metadata": {
      "needs_background": "light"
     },
     "output_type": "display_data"
    }
   ],
   "source": [
    "bar = df_diag_m.plot.bar(x='month', y='2_search_page', yticks=np.arange(0,8001,2000), rot=0, legend=None, xlabel='', ylabel='search_page')\n",
    "bar.grid(axis='y')\n",
    "bar.set_axisbelow(True)"
   ]
  },
  {
   "cell_type": "markdown",
   "metadata": {},
   "source": [
    "Здесь явно видно **падение в 4 раза** количества людей, которые пришли с *главной страницы* на *страницу поиска* т.е. в <u>***мобильных приложениях что-то не так с поиском***</u>"
   ]
  },
  {
   "cell_type": "markdown",
   "metadata": {},
   "source": [
    "## Конверсия перехода для **Десктопных устройств** (Desktop)\n",
    "\n",
    "Посмотрим теперь что происходит на **дестопных устройствах** (на стационарных компьютерах)"
   ]
  },
  {
   "cell_type": "code",
   "execution_count": 5,
   "metadata": {},
   "outputs": [
    {
     "data": {
      "text/html": [
       "<style  type=\"text/css\" >\n",
       "    #T_c1588583_ebef_11ea_8a6e_482ae308b1f1 tr:nth-of-type(-n+2) td {\n",
       "          background-color: lightgreen;\n",
       "    }    #T_c1588583_ebef_11ea_8a6e_482ae308b1f1 tr:nth-of-type(3) {\n",
       "          background-color: lightpink;\n",
       "    }</style><table id=\"T_c1588583_ebef_11ea_8a6e_482ae308b1f1\" ><thead>    <tr>        <th class=\"blank level0\" ></th>        <th class=\"col_heading level0 col0\" >2015-01</th>        <th class=\"col_heading level0 col1\" >2015-02</th>        <th class=\"col_heading level0 col2\" >2015-03</th>        <th class=\"col_heading level0 col3\" >2015-04</th>    </tr></thead><tbody>\n",
       "                <tr>\n",
       "                        <th id=\"T_c1588583_ebef_11ea_8a6e_482ae308b1f1level0_row0\" class=\"row_heading level0 row0\" >1_home_page</th>\n",
       "                        <td id=\"T_c1588583_ebef_11ea_8a6e_482ae308b1f1row0_col0\" class=\"data row0 col0\" >15050</td>\n",
       "                        <td id=\"T_c1588583_ebef_11ea_8a6e_482ae308b1f1row0_col1\" class=\"data row0 col1\" >15050</td>\n",
       "                        <td id=\"T_c1588583_ebef_11ea_8a6e_482ae308b1f1row0_col2\" class=\"data row0 col2\" >15050</td>\n",
       "                        <td id=\"T_c1588583_ebef_11ea_8a6e_482ae308b1f1row0_col3\" class=\"data row0 col3\" >15050</td>\n",
       "            </tr>\n",
       "            <tr>\n",
       "                        <th id=\"T_c1588583_ebef_11ea_8a6e_482ae308b1f1level0_row1\" class=\"row_heading level0 row1\" >2_search_page</th>\n",
       "                        <td id=\"T_c1588583_ebef_11ea_8a6e_482ae308b1f1row1_col0\" class=\"data row1 col0\" >7529</td>\n",
       "                        <td id=\"T_c1588583_ebef_11ea_8a6e_482ae308b1f1row1_col1\" class=\"data row1 col1\" >7632</td>\n",
       "                        <td id=\"T_c1588583_ebef_11ea_8a6e_482ae308b1f1row1_col2\" class=\"data row1 col2\" >7370</td>\n",
       "                        <td id=\"T_c1588583_ebef_11ea_8a6e_482ae308b1f1row1_col3\" class=\"data row1 col3\" >7569</td>\n",
       "            </tr>\n",
       "            <tr>\n",
       "                        <th id=\"T_c1588583_ebef_11ea_8a6e_482ae308b1f1level0_row2\" class=\"row_heading level0 row2\" >3_payment_page</th>\n",
       "                        <td id=\"T_c1588583_ebef_11ea_8a6e_482ae308b1f1row2_col0\" class=\"data row2 col0\" >1221</td>\n",
       "                        <td id=\"T_c1588583_ebef_11ea_8a6e_482ae308b1f1row2_col1\" class=\"data row2 col1\" >1191</td>\n",
       "                        <td id=\"T_c1588583_ebef_11ea_8a6e_482ae308b1f1row2_col2\" class=\"data row2 col2\" >(!!!) 296</td>\n",
       "                        <td id=\"T_c1588583_ebef_11ea_8a6e_482ae308b1f1row2_col3\" class=\"data row2 col3\" >302</td>\n",
       "            </tr>\n",
       "            <tr>\n",
       "                        <th id=\"T_c1588583_ebef_11ea_8a6e_482ae308b1f1level0_row3\" class=\"row_heading level0 row3\" >4_payment_confirmation_page</th>\n",
       "                        <td id=\"T_c1588583_ebef_11ea_8a6e_482ae308b1f1row3_col0\" class=\"data row3 col0\" >60</td>\n",
       "                        <td id=\"T_c1588583_ebef_11ea_8a6e_482ae308b1f1row3_col1\" class=\"data row3 col1\" >54</td>\n",
       "                        <td id=\"T_c1588583_ebef_11ea_8a6e_482ae308b1f1row3_col2\" class=\"data row3 col2\" >14</td>\n",
       "                        <td id=\"T_c1588583_ebef_11ea_8a6e_482ae308b1f1row3_col3\" class=\"data row3 col3\" >22</td>\n",
       "            </tr>\n",
       "    </tbody></table>"
      ],
      "text/plain": [
       "<pandas.io.formats.style.Styler at 0x2318cd81190>"
      ]
     },
     "execution_count": 5,
     "metadata": {},
     "output_type": "execute_result"
    }
   ],
   "source": [
    "df_desktop = pd.DataFrame(funnel_by_device['Desktop'])\n",
    "df_desktop.style.set_table_styles(\n",
    "    [{'selector': 'tr:nth-of-type(-n+2) td',\n",
    "      'props': [('background-color', 'lightgreen')]},\n",
    "     {'selector': 'tr:nth-of-type(3)',\n",
    "      'props': [('background-color', 'lightpink')]}\n",
    "    ]\n",
    "                                )\\\n",
    "    .format('(!!!) {}', subset=pd.IndexSlice['3_payment_page', '2015-03'])"
   ]
  },
  {
   "cell_type": "markdown",
   "metadata": {},
   "source": [
    "Визуализируем изменение количества посетителей для *страницы оплаты*"
   ]
  },
  {
   "cell_type": "code",
   "execution_count": 6,
   "metadata": {},
   "outputs": [
    {
     "data": {
      "text/html": [
       "<div>\n",
       "<style scoped>\n",
       "    .dataframe tbody tr th:only-of-type {\n",
       "        vertical-align: middle;\n",
       "    }\n",
       "\n",
       "    .dataframe tbody tr th {\n",
       "        vertical-align: top;\n",
       "    }\n",
       "\n",
       "    .dataframe thead th {\n",
       "        text-align: right;\n",
       "    }\n",
       "</style>\n",
       "<table border=\"1\" class=\"dataframe\">\n",
       "  <thead>\n",
       "    <tr style=\"text-align: right;\">\n",
       "      <th></th>\n",
       "      <th>3_payment_page</th>\n",
       "      <th>month</th>\n",
       "    </tr>\n",
       "  </thead>\n",
       "  <tbody>\n",
       "    <tr>\n",
       "      <th>2015-01</th>\n",
       "      <td>1221</td>\n",
       "      <td>2015-01</td>\n",
       "    </tr>\n",
       "    <tr>\n",
       "      <th>2015-02</th>\n",
       "      <td>1191</td>\n",
       "      <td>2015-02</td>\n",
       "    </tr>\n",
       "    <tr>\n",
       "      <th>2015-03</th>\n",
       "      <td>296</td>\n",
       "      <td>2015-03</td>\n",
       "    </tr>\n",
       "    <tr>\n",
       "      <th>2015-04</th>\n",
       "      <td>302</td>\n",
       "      <td>2015-04</td>\n",
       "    </tr>\n",
       "  </tbody>\n",
       "</table>\n",
       "</div>"
      ],
      "text/plain": [
       "         3_payment_page    month\n",
       "2015-01            1221  2015-01\n",
       "2015-02            1191  2015-02\n",
       "2015-03             296  2015-03\n",
       "2015-04             302  2015-04"
      ]
     },
     "execution_count": 6,
     "metadata": {},
     "output_type": "execute_result"
    }
   ],
   "source": [
    "df_diag_d = df_desktop.iloc[2:3, :].T\n",
    "df_diag_d['month'] = df_diag_d.index\n",
    "df_diag_d"
   ]
  },
  {
   "cell_type": "code",
   "execution_count": 7,
   "metadata": {},
   "outputs": [
    {
     "data": {
      "image/png": "[encoded data removed]",
      "text/plain": [
       "<Figure size 432x288 with 1 Axes>"
      ]
     },
     "metadata": {
      "needs_background": "light"
     },
     "output_type": "display_data"
    }
   ],
   "source": [
    "bar = df_diag_d.plot.bar(x='month', y='3_payment_page', yticks=np.arange(0,1251,250), rot=0, legend=None, xlabel='', ylabel='payment_page')\n",
    "bar.grid(axis='y')\n",
    "bar.set_axisbelow(True)"
   ]
  },
  {
   "cell_type": "markdown",
   "metadata": {},
   "source": [
    "## Выводы\n",
    "\n",
    "Видно, что на ***десктопных устройствах*** ситуация другая: на главной странице также всё идентично, как и с ***мобильными устройствами*** (но при этом количество переходов в 2 раза больше, чем с мобильных устройств). Также видно, что количество людей, которые потом перешли на *страницу поиска*, также <u>не меняется по месяцам</u> по сравнению с мобильными устройствами. Но на странице *начала оплаты* присходит **резкое падение**! В те же **4 раза** - с 1200 до 300 человек.\n",
    "___"
   ]
  },
  {
   "cell_type": "markdown",
   "metadata": {},
   "source": [
    "## Итоги\n",
    "\n",
    "Что удалось понять по итогам детализации воронки до типа устройств. Во-первых, проблма присутствует **на обоих устройствах** сразу. На обоих устройствах наш сайт был сломан между февралём и матром 2015 года. Во-вторых, неожиданно, сайт был сломан **в разных местах**: если на *мобильном приложении* был сломан <u>*поиск*</u>, то на *десктопе* <u>была сломана *страница оплаты*</u>, в то время как поиск не пострадал. И эта информация <u>должна помочь разработчикам</u> найти тот код, который они выкатили между февралём и мартом 2015 года.\n",
    "\n",
    "___\n",
    "Продолжение в [финальном ноутбуке](funnels_final.ipynb \"funnels final\")"
   ]
  }
 ],
 "metadata": {
  "kernelspec": {
   "display_name": "Python 3",
   "language": "python",
   "name": "python3"
  },
  "language_info": {
   "codemirror_mode": {
    "name": "ipython",
    "version": 3
   },
   "file_extension": ".py",
   "mimetype": "text/x-python",
   "name": "python",
   "nbconvert_exporter": "python",
   "pygments_lexer": "ipython3",
   "version": "3.8.3"
  }
 },
 "nbformat": 4,
 "nbformat_minor": 4
}
