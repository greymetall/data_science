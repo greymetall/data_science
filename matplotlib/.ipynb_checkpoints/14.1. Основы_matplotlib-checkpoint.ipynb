{
 "cells": [
  {
   "cell_type": "markdown",
   "metadata": {
    "colab_type": "text",
    "id": "ThfSwOgH0SCp"
   },
   "source": [
    "## Визуализация данных"
   ]
  },
  {
   "cell_type": "markdown",
   "metadata": {
    "colab_type": "text",
    "id": "4pRmNyFp0SCz"
   },
   "source": [
    "Для чего?\n",
    "- Первичное понимание данных.\n",
    "- Выбор соответствующих процедур для обработки данных, метода моделирования.\n",
    "- Коммуникация внутри команды.\n",
    "- Диалог с бизнес-заказчиком."
   ]
  },
  {
   "cell_type": "markdown",
   "metadata": {
    "colab_type": "text",
    "id": "Y_xj5wEZ0SC8"
   },
   "source": [
    "## График цен на акции Tesla"
   ]
  },
  {
   "cell_type": "markdown",
   "metadata": {
    "colab_type": "text",
    "id": "6evZ2CnZ0SDC"
   },
   "source": [
    "![title](https://248006.selcdn.ru/public/email/courses/Профессия%20Data%20Scientist/Tesla_detailed_prices.png)"
   ]
  },
  {
   "cell_type": "markdown",
   "metadata": {
    "colab_type": "text",
    "id": "SGaFyy3z0SDH"
   },
   "source": [
    "![title](https://248006.selcdn.ru/public/email/courses/Профессия%20Data%20Scientist/matplotlib_logo.png)"
   ]
  },
  {
   "cell_type": "markdown",
   "metadata": {
    "colab_type": "text",
    "id": "Sw0asbCg0SDL"
   },
   "source": [
    "## Архитектура matplotlib"
   ]
  },
  {
   "cell_type": "markdown",
   "metadata": {
    "colab_type": "text",
    "id": "q6aeoaJ60SD4"
   },
   "source": [
    "Архитектура matplotlib состоит из трех уровней:\n",
    "1. Уровень вывода данных.\n",
    "2. Уровень рисования (объектно ориентированное API).\n",
    "3. Уровень сценариев (pyplot API)."
   ]
  },
  {
   "cell_type": "markdown",
   "metadata": {
    "colab_type": "text",
    "id": "ChyjUJJ60SEF"
   },
   "source": [
    "## Основные способы работы с библиотекой"
   ]
  },
  {
   "cell_type": "markdown",
   "metadata": {
    "colab_type": "text",
    "id": "vYBkn7Cb0SEX"
   },
   "source": [
    "1. Pyplot API.\n",
    "2. Объектно ориентированное API."
   ]
  },
  {
   "cell_type": "markdown",
   "metadata": {
    "colab_type": "text",
    "id": "qljhjr-S0SEw"
   },
   "source": [
    "## Pyplot API"
   ]
  },
  {
   "cell_type": "markdown",
   "metadata": {
    "colab_type": "text",
    "id": "S4C3sCFx0SE1"
   },
   "source": [
    "Pyplot — модуль, который содержит набор функций для работы с объектом класса Figure — одним из основных классов библиотеки matplotlib."
   ]
  },
  {
   "cell_type": "markdown",
   "metadata": {
    "colab_type": "text",
    "id": "RupE-vWx0SFO"
   },
   "source": [
    "## Детальное изучение pyplot API"
   ]
  },
  {
   "cell_type": "markdown",
   "metadata": {
    "colab_type": "text",
    "id": "yyHrw-N40SFY"
   },
   "source": [
    "### Функции plot и show"
   ]
  },
  {
   "cell_type": "markdown",
   "metadata": {
    "colab_type": "text",
    "id": "GQ7llouw0SFk"
   },
   "source": [
    "Plot — функция, изображающая с помощью линий или точек данные по x и y.\n",
    "\n",
    "Сигнатура функции:\n",
    "\n",
    "```\n",
    "plot([x], y, [fmt], *, data=None, ** kwargs)\n",
    "plot([x], y, [fmt], [x2], y2, [fmt2], ..., ** kwargs)\n",
    "```\n",
    "\n",
    "fmt — format strings:\n",
    "\n",
    "```\n",
    "fmt = '[marker][line][color]'\n",
    "```\n",
    "\n",
    "Возможный другой способ вызова функции:\n",
    "\n",
    "```\n",
    "plot('xlabel', 'ylabel', data=obj)\n",
    "```\n",
    "\n",
    "где data — размеченные данные, к которым можно обратиться по проименованным индексам  ```'xlabel', 'ylabel'```\n",
    "\n",
    "Show — функция, отображающая все фигуры."
   ]
  },
  {
   "cell_type": "code",
   "execution_count": 1,
   "metadata": {
    "colab": {},
    "colab_type": "code",
    "id": "tCLeWmSH0SFy"
   },
   "outputs": [],
   "source": [
    "import numpy as np\n",
    "import pandas as pd\n",
    "from matplotlib import pyplot as plt"
   ]
  },
  {
   "cell_type": "markdown",
   "metadata": {
    "colab_type": "text",
    "id": "wx5sfcqD0SGT"
   },
   "source": [
    "### Простой график тригонометрической функции"
   ]
  },
  {
   "cell_type": "code",
   "execution_count": 2,
   "metadata": {
    "colab": {},
    "colab_type": "code",
    "id": "NC5U9A4E0SGV"
   },
   "outputs": [],
   "source": [
    "x = np.linspace(-1, 1, 50)\n",
    "y = np.arcsin(x)"
   ]
  },
  {
   "cell_type": "code",
   "execution_count": 4,
   "metadata": {
    "colab": {},
    "colab_type": "code",
    "id": "w3wYNkyu0SG0",
    "outputId": "ea7a7b40-0eaa-45cb-9622-4bbc82a4ec50"
   },
   "outputs": [
    {
     "data": {
      "image/png": "[encoded data removed]",
      "text/plain": [
       "<Figure size 432x288 with 1 Axes>"
      ]
     },
     "metadata": {
      "needs_background": "light"
     },
     "output_type": "display_data"
    }
   ],
   "source": [
    "plt.plot(x, y)\n",
    "plt.show()"
   ]
  },
  {
   "cell_type": "markdown",
   "metadata": {
    "colab_type": "text",
    "id": "Zm1F8dqe0SHA"
   },
   "source": [
    "### Отрисовка точки"
   ]
  },
  {
   "cell_type": "code",
   "execution_count": 5,
   "metadata": {
    "colab": {},
    "colab_type": "code",
    "id": "eU-pD1K-0SHB",
    "outputId": "9a7b0a5d-d5c3-43a6-ca31-c3b89f1bd58e"
   },
   "outputs": [
    {
     "data": {
      "image/png": "[encoded data removed]",
      "text/plain": [
       "<Figure size 432x288 with 1 Axes>"
      ]
     },
     "metadata": {
      "needs_background": "light"
     },
     "output_type": "display_data"
    }
   ],
   "source": [
    "x = 5\n",
    "y = -5\n",
    "plt.plot([x], [y])\n",
    "plt.show()"
   ]
  },
  {
   "cell_type": "code",
   "execution_count": 6,
   "metadata": {
    "colab": {},
    "colab_type": "code",
    "id": "FLF3rcnV0SHQ",
    "outputId": "518cd2dc-715d-4362-f6c0-be490e90200a"
   },
   "outputs": [
    {
     "data": {
      "image/png": "[encoded data removed]",
      "text/plain": [
       "<Figure size 432x288 with 1 Axes>"
      ]
     },
     "metadata": {
      "needs_background": "light"
     },
     "output_type": "display_data"
    }
   ],
   "source": [
    "plt.plot([x], [y], 'bo')\n",
    "plt.show()"
   ]
  },
  {
   "cell_type": "markdown",
   "metadata": {
    "colab_type": "text",
    "id": "MYmjJ6tw0SHc"
   },
   "source": [
    "### Несколько линий на одном графике"
   ]
  },
  {
   "cell_type": "code",
   "execution_count": 7,
   "metadata": {
    "colab": {},
    "colab_type": "code",
    "id": "_E8ABlht0SHe",
    "outputId": "3299edb5-3e49-4b70-ae45-2eb08ddd5da2"
   },
   "outputs": [
    {
     "data": {
      "image/png": "[encoded data removed]",
      "text/plain": [
       "<Figure size 432x288 with 1 Axes>"
      ]
     },
     "metadata": {
      "needs_background": "light"
     },
     "output_type": "display_data"
    }
   ],
   "source": [
    "x = np.linspace(-1, 1, 50)\n",
    "plt.plot(x, x**2, x, x**3)\n",
    "plt.show()"
   ]
  },
  {
   "cell_type": "markdown",
   "metadata": {
    "colab_type": "text",
    "id": "jTJE1ZrB0SHm"
   },
   "source": [
    "### Несколько графиков с явно указанным форматированием"
   ]
  },
  {
   "cell_type": "code",
   "execution_count": 12,
   "metadata": {
    "colab": {},
    "colab_type": "code",
    "id": "u4gYLrIK0SHn",
    "outputId": "767783f8-05cd-4075-acf1-e07e37fe2c8b"
   },
   "outputs": [
    {
     "data": {
      "image/png": "[encoded data removed]",
      "text/plain": [
       "<Figure size 432x288 with 1 Axes>"
      ]
     },
     "metadata": {
      "needs_background": "light"
     },
     "output_type": "display_data"
    },
    {
     "data": {
      "image/png": "[encoded data removed]",
      "text/plain": [
       "<Figure size 432x288 with 1 Axes>"
      ]
     },
     "metadata": {
      "needs_background": "light"
     },
     "output_type": "display_data"
    }
   ],
   "source": [
    "x = np.linspace(-1, 1, 50)\n",
    "plt.plot(x, x**2, 'r*', x, x**3, 'b^')\n",
    "plt.show()\n",
    "plt.plot(x, x**4, 'g*', x, x**5, 'y^')\n",
    "plt.show()"
   ]
  },
  {
   "cell_type": "markdown",
   "metadata": {
    "colab_type": "text",
    "id": "mQAuN9c-0SHs"
   },
   "source": [
    "### Пример на реальных данных стоимости акций Tesla"
   ]
  },
  {
   "cell_type": "code",
   "execution_count": 13,
   "metadata": {
    "colab": {},
    "colab_type": "code",
    "id": "kZ33eBLk0SHt",
    "outputId": "fa32a8f8-4b62-40cc-ce34-9bc837060ede"
   },
   "outputs": [
    {
     "data": {
      "text/html": [
       "<div>\n",
       "<style scoped>\n",
       "    .dataframe tbody tr th:only-of-type {\n",
       "        vertical-align: middle;\n",
       "    }\n",
       "\n",
       "    .dataframe tbody tr th {\n",
       "        vertical-align: top;\n",
       "    }\n",
       "\n",
       "    .dataframe thead th {\n",
       "        text-align: right;\n",
       "    }\n",
       "</style>\n",
       "<table border=\"1\" class=\"dataframe\">\n",
       "  <thead>\n",
       "    <tr style=\"text-align: right;\">\n",
       "      <th></th>\n",
       "      <th>High</th>\n",
       "      <th>Low</th>\n",
       "      <th>Open</th>\n",
       "      <th>Close</th>\n",
       "      <th>Volume</th>\n",
       "      <th>Adj Close</th>\n",
       "    </tr>\n",
       "    <tr>\n",
       "      <th>Date</th>\n",
       "      <th></th>\n",
       "      <th></th>\n",
       "      <th></th>\n",
       "      <th></th>\n",
       "      <th></th>\n",
       "      <th></th>\n",
       "    </tr>\n",
       "  </thead>\n",
       "  <tbody>\n",
       "    <tr>\n",
       "      <th>2010-06-29</th>\n",
       "      <td>25.00</td>\n",
       "      <td>17.540001</td>\n",
       "      <td>19.000000</td>\n",
       "      <td>23.889999</td>\n",
       "      <td>18766300</td>\n",
       "      <td>23.889999</td>\n",
       "    </tr>\n",
       "    <tr>\n",
       "      <th>2010-06-30</th>\n",
       "      <td>30.42</td>\n",
       "      <td>23.299999</td>\n",
       "      <td>25.790001</td>\n",
       "      <td>23.830000</td>\n",
       "      <td>17187100</td>\n",
       "      <td>23.830000</td>\n",
       "    </tr>\n",
       "    <tr>\n",
       "      <th>2010-07-01</th>\n",
       "      <td>25.92</td>\n",
       "      <td>20.270000</td>\n",
       "      <td>25.000000</td>\n",
       "      <td>21.959999</td>\n",
       "      <td>8218800</td>\n",
       "      <td>21.959999</td>\n",
       "    </tr>\n",
       "    <tr>\n",
       "      <th>2010-07-02</th>\n",
       "      <td>23.10</td>\n",
       "      <td>18.709999</td>\n",
       "      <td>23.000000</td>\n",
       "      <td>19.200001</td>\n",
       "      <td>5139800</td>\n",
       "      <td>19.200001</td>\n",
       "    </tr>\n",
       "    <tr>\n",
       "      <th>2010-07-06</th>\n",
       "      <td>20.00</td>\n",
       "      <td>15.830000</td>\n",
       "      <td>20.000000</td>\n",
       "      <td>16.110001</td>\n",
       "      <td>6866900</td>\n",
       "      <td>16.110001</td>\n",
       "    </tr>\n",
       "  </tbody>\n",
       "</table>\n",
       "</div>"
      ],
      "text/plain": [
       "             High        Low       Open      Close    Volume  Adj Close\n",
       "Date                                                                   \n",
       "2010-06-29  25.00  17.540001  19.000000  23.889999  18766300  23.889999\n",
       "2010-06-30  30.42  23.299999  25.790001  23.830000  17187100  23.830000\n",
       "2010-07-01  25.92  20.270000  25.000000  21.959999   8218800  21.959999\n",
       "2010-07-02  23.10  18.709999  23.000000  19.200001   5139800  19.200001\n",
       "2010-07-06  20.00  15.830000  20.000000  16.110001   6866900  16.110001"
      ]
     },
     "execution_count": 13,
     "metadata": {},
     "output_type": "execute_result"
    }
   ],
   "source": [
    "data = pd.read_csv('Tesla.csv', parse_dates=True, index_col='Date')\n",
    "data.head()"
   ]
  },
  {
   "cell_type": "code",
   "execution_count": null,
   "metadata": {
    "colab": {},
    "colab_type": "code",
    "id": "TME78Nvf0SHy",
    "outputId": "a29a1c0f-789e-4fc7-b74e-3f7812fc55fa"
   },
   "outputs": [
    {
     "data": {
      "image/png": "[encoded data removed]",
      "text/plain": [
       "<Figure size 432x288 with 1 Axes>"
      ]
     },
     "metadata": {
      "tags": []
     },
     "output_type": "display_data"
    }
   ],
   "source": [
    "plt.plot(data.index, data['High'])\n",
    "plt.plot(data.index, data['Low'])\n",
    "plt.show()"
   ]
  },
  {
   "cell_type": "markdown",
   "metadata": {
    "colab_type": "text",
    "id": "8xxIRkwP0SH6"
   },
   "source": [
    "Необходимо:\n",
    "1. Добавить название графика.\n",
    "2. Подписать оси.\n",
    "3. Явно указать, какой график является самой высокой дневной ценой, а какой — самой низкой.\n",
    "4. Указать, где именно расположено 8 мая 2013 года."
   ]
  },
  {
   "cell_type": "markdown",
   "metadata": {
    "colab_type": "text",
    "id": "dAdVvp3T0SH7"
   },
   "source": [
    "## Дополнительные материалы"
   ]
  },
  {
   "cell_type": "markdown",
   "metadata": {
    "colab_type": "text",
    "id": "gRziw2dV0SH8"
   },
   "source": [
    "[Подробное описание устройства архитектуры matplotlib](http://rus-linux.net/MyLDP/BOOKS/Architecture-Open-Source-Applications/Vol-2/matplotlib-02.html)\n",
    "\n",
    "[Основные способы работы с matplotlib](https://matplotlib.org/3.2.0/api/index.html#usage-patterns)\n",
    "\n",
    "[Полный список функций модуля pyplot](https://matplotlib.org/3.2.0/api/_as_gen/matplotlib.pyplot.html#module-matplotlib.pyplot)\n",
    "\n",
    "[Документация по функции plot](https://matplotlib.org/3.1.0/api/_as_gen/matplotlib.pyplot.plot.html)\n",
    "\n",
    "[Документация по функции show](https://matplotlib.org/3.1.0/api/_as_gen/matplotlib.pyplot.show.html)"
   ]
  },
  {
   "cell_type": "markdown",
   "metadata": {
    "colab_type": "text",
    "id": "4UfOWZoc0SH9"
   },
   "source": [
    "## Практическое задание"
   ]
  },
  {
   "cell_type": "markdown",
   "metadata": {
    "colab_type": "text",
    "id": "KLpc-vsF0SH-"
   },
   "source": [
    "Нарисуйте с помощью функции plot:\n",
    "- $\\sqrt(x)$ — штриховая (dashed) линия с точками в форме ромбов (diamond) зелёного (green) цвета.\n",
    "- $\\sqrt[4](x)$ — пунктирная (dotted) линия с точками в форме крестиков (x marker) пурпурного (magenta) цвета.\n",
    "\n",
    "Используйте для этого документацию по функции plot."
   ]
  },
  {
   "cell_type": "code",
   "execution_count": 36,
   "metadata": {},
   "outputs": [
    {
     "data": {
      "image/png": "[encoded data removed]",
      "text/plain": [
       "<Figure size 432x288 with 1 Axes>"
      ]
     },
     "metadata": {
      "needs_background": "light"
     },
     "output_type": "display_data"
    }
   ],
   "source": [
    "x = np.linspace(0, 16, 30)\n",
    "plt.plot(x, np.sqrt(x), 'd--g', x, x**0.25, 'x:m')\n",
    "plt.show()"
   ]
  }
 ],
 "metadata": {
  "colab": {
   "collapsed_sections": [],
   "name": "11.1 Основы matplotlib.ipynb",
   "provenance": []
  },
  "kernelspec": {
   "display_name": "Python 3",
   "language": "python",
   "name": "python3"
  },
  "language_info": {
   "codemirror_mode": {
    "name": "ipython",
    "version": 3
   },
   "file_extension": ".py",
   "mimetype": "text/x-python",
   "name": "python",
   "nbconvert_exporter": "python",
   "pygments_lexer": "ipython3",
   "version": "3.7.6"
  }
 },
 "nbformat": 4,
 "nbformat_minor": 1
}
