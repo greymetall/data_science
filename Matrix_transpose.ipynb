{
 "cells": [
  {
   "cell_type": "code",
   "execution_count": 1,
   "metadata": {},
   "outputs": [
    {
     "data": {
      "text/plain": [
       "array([[2, 9, 8, 0],\n",
       "       [8, 7, 5, 6],\n",
       "       [3, 1, 0, 2],\n",
       "       [6, 5, 6, 8],\n",
       "       [1, 0, 0, 4]])"
      ]
     },
     "execution_count": 1,
     "metadata": {},
     "output_type": "execute_result"
    }
   ],
   "source": [
    "import numpy as np\n",
    "A = np.array([[2, 9, 8, 0],\n",
    "             [8, 7, 5, 6], \n",
    "             [3, 1, 0, 2], \n",
    "             [6, 5, 6, 8],\n",
    "             [1, 0, 0, 4]])\n",
    "A"
   ]
  },
  {
   "cell_type": "code",
   "execution_count": 2,
   "metadata": {},
   "outputs": [
    {
     "data": {
      "text/plain": [
       "array([[2, 8, 3, 6, 1],\n",
       "       [9, 7, 1, 5, 0],\n",
       "       [8, 5, 0, 6, 0],\n",
       "       [0, 6, 2, 8, 4]])"
      ]
     },
     "execution_count": 2,
     "metadata": {},
     "output_type": "execute_result"
    }
   ],
   "source": [
    "A_tr = [list(i) for i in A]\n",
    "A_tr = [list(i) for i in list(zip(*A_tr))]\n",
    "A_tr = np.array(A_tr)\n",
    "A_tr"
   ]
  },
  {
   "cell_type": "code",
   "execution_count": 3,
   "metadata": {},
   "outputs": [
    {
     "data": {
      "text/plain": [
       "array([[2, 8, 3, 6, 1],\n",
       "       [9, 7, 1, 5, 0],\n",
       "       [8, 5, 0, 6, 0],\n",
       "       [0, 6, 2, 8, 4]])"
      ]
     },
     "execution_count": 3,
     "metadata": {},
     "output_type": "execute_result"
    }
   ],
   "source": [
    "# или в одну строку:\n",
    "A_tr = np.array([list(i) for i in list(zip(*[list(i) for i in A]))])\n",
    "A_tr"
   ]
  },
  {
   "cell_type": "code",
   "execution_count": 4,
   "metadata": {},
   "outputs": [
    {
     "data": {
      "text/plain": [
       "5"
      ]
     },
     "execution_count": 4,
     "metadata": {},
     "output_type": "execute_result"
    }
   ],
   "source": [
    "len(A)"
   ]
  },
  {
   "cell_type": "code",
   "execution_count": 5,
   "metadata": {},
   "outputs": [
    {
     "data": {
      "text/plain": [
       "array([[2, 8, 3, 6, 1],\n",
       "       [9, 7, 1, 5, 0],\n",
       "       [8, 5, 0, 6, 0],\n",
       "       [0, 6, 2, 8, 4]])"
      ]
     },
     "execution_count": 5,
     "metadata": {},
     "output_type": "execute_result"
    }
   ],
   "source": [
    "# A_tr = [*A]\n",
    "A_tr = np.array(list(zip(*[[*A][i] for i in range(len(A))])))\n",
    "# A_tr = np.array(list(A_list))\n",
    "A_tr\n",
    "# A_tr = list(zip([*A][0], [*A][1], [*A][2], [*A][3], [*A][4]))\n",
    "# A_tr = np.array(A_tr)\n",
    "# A_tr"
   ]
  },
  {
   "cell_type": "code",
   "execution_count": 6,
   "metadata": {},
   "outputs": [
    {
     "data": {
      "text/plain": [
       "True"
      ]
     },
     "execution_count": 6,
     "metadata": {},
     "output_type": "execute_result"
    }
   ],
   "source": [
    "np.array_equal([[*A][i] for i in range(len(A))], [*A])"
   ]
  },
  {
   "cell_type": "code",
   "execution_count": 7,
   "metadata": {},
   "outputs": [
    {
     "data": {
      "text/plain": [
       "[array([2, 9, 8, 0]),\n",
       " array([8, 7, 5, 6]),\n",
       " array([3, 1, 0, 2]),\n",
       " array([6, 5, 6, 8]),\n",
       " array([1, 0, 0, 4])]"
      ]
     },
     "execution_count": 7,
     "metadata": {},
     "output_type": "execute_result"
    }
   ],
   "source": [
    "[*A]"
   ]
  },
  {
   "cell_type": "code",
   "execution_count": 8,
   "metadata": {},
   "outputs": [
    {
     "data": {
      "text/plain": [
       "array([[2, 8, 3, 6, 1],\n",
       "       [9, 7, 1, 5, 0],\n",
       "       [8, 5, 0, 6, 0],\n",
       "       [0, 6, 2, 8, 4]])"
      ]
     },
     "execution_count": 8,
     "metadata": {},
     "output_type": "execute_result"
    }
   ],
   "source": [
    "A_tr = np.array([*zip(*A)])\n",
    "A_tr"
   ]
  },
  {
   "cell_type": "code",
   "execution_count": 9,
   "metadata": {},
   "outputs": [
    {
     "data": {
      "text/plain": [
       "array([[2, 8, 3, 6, 1],\n",
       "       [9, 7, 1, 5, 0],\n",
       "       [8, 5, 0, 6, 0],\n",
       "       [0, 6, 2, 8, 4]])"
      ]
     },
     "execution_count": 9,
     "metadata": {},
     "output_type": "execute_result"
    }
   ],
   "source": [
    "A_tr = np.array(list(zip(*A)))\n",
    "A_tr"
   ]
  },
  {
   "cell_type": "code",
   "execution_count": 10,
   "metadata": {},
   "outputs": [
    {
     "data": {
      "text/plain": [
       "[[2, 8, 3, 6, 1], [9, 7, 1, 5, 0], [8, 5, 0, 6, 0], [0, 6, 2, 8, 4]]"
      ]
     },
     "execution_count": 10,
     "metadata": {},
     "output_type": "execute_result"
    }
   ],
   "source": [
    "def transpose_list(list_of_lists):\n",
    "    return [\n",
    "        list(row)\n",
    "        for row in zip(*list_of_lists)\n",
    "    ]\n",
    "transpose_list([list(i) for i in A])"
   ]
  }
 ],
 "metadata": {
  "kernelspec": {
   "display_name": "Python 3",
   "language": "python",
   "name": "python3"
  },
  "language_info": {
   "codemirror_mode": {
    "name": "ipython",
    "version": 3
   },
   "file_extension": ".py",
   "mimetype": "text/x-python",
   "name": "python",
   "nbconvert_exporter": "python",
   "pygments_lexer": "ipython3",
   "version": "3.7.6"
  }
 },
 "nbformat": 4,
 "nbformat_minor": 4
}
